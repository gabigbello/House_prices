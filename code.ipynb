{
 "cells": [
  {
   "cell_type": "code",
   "execution_count": null,
   "metadata": {},
   "outputs": [],
   "source": [
    "#Importing libraries\n",
    "import pandas as pd\n",
    "import numpy as np"
   ]
  },
  {
   "cell_type": "code",
   "execution_count": null,
   "metadata": {},
   "outputs": [],
   "source": [
    "#Importing train and test dataset\n",
    "test = pd.read_csv(\"test.csv\",sep=\",\")\n",
    "train = pd.read_csv(\"train.csv\",sep=\",\")"
   ]
  },
  {
   "cell_type": "code",
   "execution_count": null,
   "metadata": {},
   "outputs": [],
   "source": [
    "#-----------------------------------------------------------------------------------------------------------------------------------------------------\n",
    "#TRAIN DATASET\n",
    "#-----------------------------------------------------------------------------------------------------------------------------------------------------"
   ]
  },
  {
   "cell_type": "code",
   "execution_count": null,
   "metadata": {},
   "outputs": [],
   "source": [
    "#Train - description\n",
    "train.head(3) #initially we have a lot of null values"
   ]
  },
  {
   "cell_type": "code",
   "execution_count": null,
   "metadata": {},
   "outputs": [],
   "source": [
    "#Train - shape\n",
    "train.shape #we have initially 1460 rows and 81 columns "
   ]
  },
  {
   "cell_type": "code",
   "execution_count": null,
   "metadata": {},
   "outputs": [],
   "source": [
    "#Train - info\n",
    "train.info()"
   ]
  },
  {
   "cell_type": "code",
   "execution_count": null,
   "metadata": {},
   "outputs": [],
   "source": [
    "#Studying null values\n",
    "(train.isnull().sum()/train.shape[0]).sort_values(ascending=False).head(20) #finding % of null values in each column"
   ]
  },
  {
   "cell_type": "code",
   "execution_count": null,
   "metadata": {},
   "outputs": [],
   "source": [
    "#Deleting all columns with more than 10% of null values\n",
    "remove = train.columns[(train.isnull().sum()/train.shape[0]) > 0.1]\n",
    "train = train.drop(remove,axis=1)"
   ]
  },
  {
   "cell_type": "code",
   "execution_count": null,
   "metadata": {},
   "outputs": [],
   "source": [
    "#Checking numeric columns\n",
    "numeric_columns = train.columns[train.dtypes != 'object']"
   ]
  },
  {
   "cell_type": "code",
   "execution_count": null,
   "metadata": {},
   "outputs": [],
   "source": [
    "#Checking categoric columns\n",
    "categoric_columns = train.columns[train.dtypes == 'object']"
   ]
  },
  {
   "cell_type": "code",
   "execution_count": null,
   "metadata": {},
   "outputs": [],
   "source": [
    "#Checking and treating null values on numeric train base\n",
    "train_numeric = train.loc[:,numeric_columns]\n",
    "train_numeric.head()\n",
    "train_numeric.isnull().sum().sort_values(ascending=False) #Two columns with null values: GarageYrBlt and MasVnrArea"
   ]
  },
  {
   "cell_type": "code",
   "execution_count": null,
   "metadata": {},
   "outputs": [],
   "source": [
    "#GarageYrBlt\n",
    "top_garageyrblt = train_numeric.groupby(train_numeric['GarageYrBlt']).size().sort_values(ascending=False).head(5).tolist()\n",
    "#In order, we get: 2005.0,2006.0,2004.0,2003.0,2007.0. Will use these values to fill the null\n",
    "train_numeric['GarageYrBlt'].fillna(pd.Series(np.random.choice(top_garageyrblt,size=len(train_numeric.index))), inplace=True)\n",
    "#Checking if we still have null values\n",
    "train_numeric.isnull().sum().sort_values(ascending=False)"
   ]
  },
  {
   "cell_type": "code",
   "execution_count": null,
   "metadata": {},
   "outputs": [],
   "source": [
    "#MasVnrArea\n",
    "top_masva = train_numeric.groupby(train_numeric['MasVnrArea']).size().sort_values(ascending=False).head(1)\n",
    "train_numeric['MasVnrArea'].fillna(top_masva, inplace=True)\n",
    "#Checking if we still have null values\n",
    "train_numeric.isnull().sum().sort_values(ascending=False) #No more null values"
   ]
  },
  {
   "cell_type": "code",
   "execution_count": null,
   "metadata": {},
   "outputs": [],
   "source": [
    "#Checking and treating null values on categoric train base\n",
    "train_categoric = train.loc[:,categoric_columns]\n",
    "train_categoric.head()\n",
    "train_categoric.isnull().sum().sort_values(ascending=False)\n",
    "'''\n",
    "Columns with null values:\n",
    "GarageCond       81\n",
    "GarageQual       81\n",
    "GarageFinish     81\n",
    "GarageType       81\n",
    "BsmtExposure     38\n",
    "BsmtFinType2     38\n",
    "BsmtCond         37\n",
    "BsmtFinType1     37\n",
    "BsmtQual         37\n",
    "Electrical        1\n",
    "'''"
   ]
  },
  {
   "cell_type": "code",
   "execution_count": null,
   "metadata": {},
   "outputs": [],
   "source": [
    "#GarageCond\n",
    "garage_cond = train_categoric.groupby(train_categoric['GarageCond']).size().sort_values(ascending=False).head(5)\n",
    "#Since we have a huge difference between 'TA' and other values in this column, we will replace null values for 'TA'\n",
    "train_categoric['GarageCond'].fillna('TA',inplace=True)\n",
    "#Checking if we still have null values on GarageCond\n",
    "train_categoric.isnull().sum().sort_values(ascending=False)"
   ]
  },
  {
   "cell_type": "code",
   "execution_count": null,
   "metadata": {},
   "outputs": [],
   "source": [
    "#GarageQual, GarageFinish, GarageType\n",
    "garage_qual = train_categoric.groupby(train_categoric['GarageQual']).size().sort_values(ascending=False).head(5) #same case as GarageCond\n",
    "garage_finish = train_categoric.groupby(train_categoric['GarageFinish']).size().sort_values(ascending=False).head(5)\n",
    "garage_type = train_categoric.groupby(train_categoric['GarageType']).size().sort_values(ascending=False).head(5)\n",
    "\n",
    "#Garage qual is the same case as GarageCond -> Fill with TA\n",
    "train_categoric['GarageQual'].fillna('TA',inplace=True)\n",
    "#For GarageFinish, we have not much difference between the data, so we will random fill the null values\n",
    "train_categoric['GarageFinish'].fillna(pd.Series(np.random.choice(garage_finish.tolist(),size=len(train_categoric.index))), inplace=True)\n",
    "#For GarageType, we have a huge difference between \"Attchd\" and other values, so we can fill the null values with this item\n",
    "train_categoric['GarageType'].fillna('Attchd',inplace=True)"
   ]
  },
  {
   "cell_type": "code",
   "execution_count": null,
   "metadata": {},
   "outputs": [],
   "source": [
    "#BsmtExposure, BsmtFinType2, BsmtCond, BsmtQual, BsmtFinType1\n",
    "bsmt_exposure = train_categoric.groupby(train_categoric['BsmtExposure']).size().sort_values(ascending=False).head(5)\n",
    "#Replacing for No, since it's an outstanding class in the data\n",
    "train_categoric['BsmtExposure'].fillna('No',inplace=True)\n",
    "bsmt_fin2 = train_categoric.groupby(train_categoric['BsmtFinType2']).size().sort_values(ascending=False).head(5)\n",
    "#Replacing for Unf, since it's an outstanding class in the data\n",
    "train_categoric['BsmtFinType2'].fillna('Unf',inplace=True)\n",
    "bsmt_fin1 = train_categoric.groupby(train_categoric['BsmtFinType1']).size().sort_values(ascending=False).head(2)\n",
    "#Random fill with top 2 values (430 and 418)\n",
    "train_categoric['BsmtFinType1'].fillna(pd.Series(np.random.choice(bsmt_fin1.tolist(),size=len(train_categoric.index))), inplace=True)\n",
    "bsmt_cond = train_categoric.groupby(train_categoric['BsmtCond']).size().sort_values(ascending=False).head(5)\n",
    "#Filling null with TA, since it's the outstanding value\n",
    "train_categoric['BsmtCond'].fillna('TA',inplace=True)\n",
    "bsmt_qual = train_categoric.groupby(train_categoric['BsmtQual']).size().sort_values(ascending=False).head(5)\n",
    "#Random filling null with top 2 values (649 and 618)\n",
    "train_categoric['BsmtQual'].fillna(pd.Series(np.random.choice(bsmt_qual.tolist(),size=len(train_categoric.index))), inplace=True)"
   ]
  },
  {
   "cell_type": "code",
   "execution_count": null,
   "metadata": {},
   "outputs": [],
   "source": [
    "#Electrical\n",
    "electrical = train_categoric.groupby(train_categoric['Electrical']).size().sort_values(ascending=False).head(5)\n",
    "#Fill with 'Sbrkr' which is the most outstanding value\n",
    "train_categoric['Electrical'].fillna('SBrkr',inplace=True)"
   ]
  },
  {
   "cell_type": "code",
   "execution_count": null,
   "metadata": {},
   "outputs": [],
   "source": [
    "#Getting our final train_dataset by combining both numeric and categoric data\n",
    "train_dataset = pd.concat([train_numeric,train_categoric],axis=1)"
   ]
  },
  {
   "cell_type": "code",
   "execution_count": null,
   "metadata": {},
   "outputs": [],
   "source": [
    "#-----------------------------------------------------------------------------------------------------------------------------------------------------\n",
    "#TEST DATASET\n",
    "#-----------------------------------------------------------------------------------------------------------------------------------------------------"
   ]
  },
  {
   "cell_type": "code",
   "execution_count": null,
   "metadata": {},
   "outputs": [],
   "source": [
    "#Here we will do the same thing we've done above to check for null values and understand our columns\n",
    "test.head(3)\n",
    "test.shape #1459 rows and 80 columns (no 'Sales price' column, which is what we want to predict)\n",
    "test.info()"
   ]
  },
  {
   "cell_type": "code",
   "execution_count": null,
   "metadata": {},
   "outputs": [],
   "source": [
    "#Removing all columns that have more than 10% of null values\n",
    "(test.isnull().sum()/test.shape[0]).sort_values(ascending=False).head(20)\n",
    "remove_test = test.columns[(test.isnull().sum()/test.shape[0]) > 0.1]\n",
    "test = test.drop(remove_test,axis=1)"
   ]
  },
  {
   "cell_type": "code",
   "execution_count": null,
   "metadata": {},
   "outputs": [],
   "source": [
    "numeric_tst = test.columns[test.dtypes != 'object']\n",
    "categoric_tst = test.columns[test.dtypes == 'object']"
   ]
  },
  {
   "cell_type": "code",
   "execution_count": null,
   "metadata": {},
   "outputs": [],
   "source": [
    "#Treating numeric values\n",
    "test_numeric = test.loc[:,numeric_tst]\n",
    "test_numeric.head(5)\n",
    "test_numeric.isnull().sum().sort_values(ascending=False).head(10) #10 columns with null values\n",
    "'''\n",
    "GarageYrBlt     78\n",
    "MasVnrArea      15\n",
    "BsmtHalfBath     2\n",
    "BsmtFullBath     2\n",
    "BsmtUnfSF        1\n",
    "GarageCars       1\n",
    "GarageArea       1\n",
    "BsmtFinSF1       1\n",
    "BsmtFinSF2       1\n",
    "TotalBsmtSF      1\n",
    "'''"
   ]
  },
  {
   "cell_type": "code",
   "execution_count": null,
   "metadata": {},
   "outputs": [],
   "source": [
    "#Grouping columns\n",
    "garage_yrblt = test_numeric.groupby(test_numeric['GarageYrBlt']).size().sort_values(ascending=False).head(5)\n",
    "masvnrarea = test_numeric.groupby(test_numeric['MasVnrArea']).size().sort_values(ascending=False).head(5)\n",
    "bsmthalfbath = test_numeric.groupby(test_numeric['BsmtHalfBath']).size().sort_values(ascending=False).head(5)\n",
    "bsmtfullbath = test_numeric.groupby(test_numeric['BsmtFullBath']).size().sort_values(ascending=False).head(5)\n",
    "bsmtunfsf = test_numeric.groupby(test_numeric['BsmtUnfSF']).size().sort_values(ascending=False).head(5)\n",
    "garagecars = test_numeric.groupby(test_numeric['GarageCars']).size().sort_values(ascending=False).head(5)\n",
    "garagearea = test_numeric.groupby(test_numeric['GarageArea']).size().sort_values(ascending=False).head(5)\n",
    "bsmtfinsf1 = test_numeric.groupby(test_numeric['BsmtFinSF1']).size().sort_values(ascending=False).head(5)\n",
    "bsmtfinsf2 = test_numeric.groupby(test_numeric['BsmtFinSF2']).size().sort_values(ascending=False).head(5)\n",
    "totalbsmtsf = test_numeric.groupby(test_numeric['TotalBsmtSF']).size().sort_values(ascending=False).head(2)\n",
    "\n",
    "#Garage_yrblt - Random fill with top 5 values\n",
    "test_numeric['GarageYrBlt'].fillna(pd.Series(np.random.choice(garage_yrblt.tolist(),size=len(test_numeric.index))), inplace=True)\n",
    "#MasVnrArea - Fill with 0.0\n",
    "test_numeric['MasVnrArea'].fillna('0.0',inplace=True)\n",
    "#BmstHalfBath - Fill with 0.0\n",
    "test_numeric['BsmtHalfBath'].fillna('0.0',inplace=True)\n",
    "#Bsmtfullbath - fill with 0.0\n",
    "test_numeric['BsmtFullBath'].fillna('0.0',inplace=True)\n",
    "#Bsmtunfsf - fill with 0.0\n",
    "test_numeric['BsmtUnfSF'].fillna('0.0',inplace=True)\n",
    "#Garagecars - fill with '2.0'\n",
    "test_numeric['GarageCars'].fillna('2.0',inplace=True)\n",
    "#GarageArea - randomic fill among top 5 values\n",
    "test_numeric['GarageArea'].fillna(pd.Series(np.random.choice(garagearea.tolist(),size=len(test_numeric.index))), inplace=True)\n",
    "#BsmtfinsF1 (Fill with '0.0') and BsmtfinsF2 (Fill with '0.0')\n",
    "test_numeric['BsmtFinSF1'].fillna('0.0',inplace=True)\n",
    "test_numeric['BsmtFinSF2'].fillna('0.0',inplace=True)\n",
    "#TotalBsmtSF - Randomic fill among top 2\n",
    "test_numeric['TotalBsmtSF'].fillna(pd.Series(np.random.choice(totalbsmtsf.tolist(),size=len(test_numeric.index))),inplace=True)"
   ]
  },
  {
   "cell_type": "code",
   "execution_count": null,
   "metadata": {},
   "outputs": [],
   "source": [
    "test_categoric = test.loc[:,categoric_tst]\n",
    "test_categoric.head(5)\n",
    "test_categoric.isnull().sum().sort_values(ascending=False).head(16) #16 columns with null values\n",
    "'''\n",
    "GarageCond      78\n",
    "GarageQual      78\n",
    "GarageFinish    78\n",
    "GarageType      76\n",
    "BsmtCond        45\n",
    "BsmtExposure    44\n",
    "BsmtQual        44\n",
    "BsmtFinType1    42\n",
    "BsmtFinType2    42\n",
    "MSZoning         4\n",
    "Functional       2\n",
    "Utilities        2\n",
    "Exterior1st      1\n",
    "Exterior2nd      1\n",
    "SaleType         1\n",
    "KitchenQual      1\n",
    "'''"
   ]
  },
  {
   "cell_type": "code",
   "execution_count": null,
   "metadata": {},
   "outputs": [],
   "source": [
    "#GarageCond      78\n",
    "tst_garagecond = test_categoric.groupby(test_categoric['GarageCond']).size().sort_values(ascending=False).head(5) \n",
    "test_categoric['GarageCond'].fillna('TA',inplace=True)\n",
    "#GarageQual      78\n",
    "tst_garagequal = test_categoric.groupby(test_categoric['GarageQual']).size().sort_values(ascending=False).head(5)\n",
    "test_categoric['GarageQual'].fillna('TA',inplace=True)\n",
    "#GarageFinish    78\n",
    "tst_garagefinish = test_categoric.groupby(test_categoric['GarageFinish']).size().sort_values(ascending=False).head(5)\n",
    "test_categoric['GarageFinish'].fillna('Unf',inplace=True)\n",
    "#GarageType      76\n",
    "tst_garagetype = test_categoric.groupby(test_categoric['GarageType']).size().sort_values(ascending=False).head(5)\n",
    "test_categoric['GarageType'].fillna('Attchd',inplace=True)\n",
    "#BsmtCond        45\n",
    "tst_bsmtcond = test_categoric.groupby(test_categoric['BsmtCond']).size().sort_values(ascending=False).head(5)\n",
    "test_categoric['BsmtCond'].fillna('TA',inplace=True)\n",
    "#BsmtExposure    44\n",
    "tst_bsmtexposure = test_categoric.groupby(test_categoric['BsmtExposure']).size().sort_values(ascending=False).head(5)\n",
    "test_categoric['BsmtExposure'].fillna('No',inplace=True)\n",
    "#BsmtQual        44\n",
    "tst_bsmtqual = test_categoric.groupby(test_categoric['BsmtQual']).size().sort_values(ascending=False).head(2)\n",
    "test_categoric['BsmtQual'].fillna(pd.Series(np.random.choice((tst_bsmtqual.tolist()),size=len(test_categoric.index))),inplace=True)\n",
    "#BsmtFinType1    42\n",
    "tst_bsmtfintype1 = test_categoric.groupby(test_categoric['BsmtFinType1']).size().sort_values(ascending=False).head(2)\n",
    "test_categoric['BsmtFinType1'].fillna(pd.Series(np.random.choice((tst_bsmtfintype1.tolist()),size=len(test_categoric.index))),inplace=True)\n",
    "#BsmtFinType2    42\n",
    "tst_bsmtfintype2 = test_categoric.groupby(test_categoric['BsmtFinType2']).size().sort_values(ascending=False).head(5)\n",
    "test_categoric['BsmtFinType2'].fillna('Unf',inplace=True)\n",
    "#MSZoning         4\n",
    "tst_mszoning = test_categoric.groupby(test_categoric['MSZoning']).size().sort_values(ascending=False).head(5)\n",
    "test_categoric['MSZoning'].fillna('RL',inplace=True)\n",
    "#Functional       2\n",
    "tst_functional = test_categoric.groupby(test_categoric['Functional']).size().sort_values(ascending=False).head(5)\n",
    "test_categoric['Functional'].fillna('Typ',inplace=True)\n",
    "#Utilities        2\n",
    "tst_utilities = test_categoric.groupby(test_categoric['Utilities']).size().sort_values(ascending=False).head(5) #Only AllPub\n",
    "test_categoric['Utilities'].fillna('AllPub',inplace=True)\n",
    "#Exterior1st      1\n",
    "tst_exterior1st = test_categoric.groupby(test_categoric['Exterior1st']).size().sort_values(ascending=False).head(5)\n",
    "test_categoric['Exterior1st'].fillna('VinylSd',inplace=True)\n",
    "#Exterior2nd      1\n",
    "tst_exterior2nd = test_categoric.groupby(test_categoric['Exterior2nd']).size().sort_values(ascending=False).head(5)\n",
    "test_categoric['Exterior2nd'].fillna('VinylSd',inplace=True)\n",
    "#SaleType         1\n",
    "tst_saletype = test_categoric.groupby(test_categoric['SaleType']).size().sort_values(ascending=False).head(5)\n",
    "test_categoric['SaleType'].fillna('WD',inplace=True)\n",
    "#KitchenQual      1\n",
    "tst_kitchenqual = test_categoric.groupby(test_categoric['KitchenQual']).size().sort_values(ascending=False).head(5)\n",
    "test_categoric['KitchenQual'].fillna('TA',inplace=True)"
   ]
  },
  {
   "cell_type": "code",
   "execution_count": 81,
   "metadata": {},
   "outputs": [],
   "source": [
    "#Getting our final test dataset with no null values\n",
    "test_dataset = pd.concat([test_numeric,test_categoric],axis=1)"
   ]
  },
  {
   "cell_type": "code",
   "execution_count": 82,
   "metadata": {},
   "outputs": [
    {
     "data": {
      "text/html": [
       "<div>\n",
       "<style scoped>\n",
       "    .dataframe tbody tr th:only-of-type {\n",
       "        vertical-align: middle;\n",
       "    }\n",
       "\n",
       "    .dataframe tbody tr th {\n",
       "        vertical-align: top;\n",
       "    }\n",
       "\n",
       "    .dataframe thead th {\n",
       "        text-align: right;\n",
       "    }\n",
       "</style>\n",
       "<table border=\"1\" class=\"dataframe\">\n",
       "  <thead>\n",
       "    <tr style=\"text-align: right;\">\n",
       "      <th></th>\n",
       "      <th>Id</th>\n",
       "      <th>MSSubClass</th>\n",
       "      <th>LotArea</th>\n",
       "      <th>OverallQual</th>\n",
       "      <th>OverallCond</th>\n",
       "      <th>YearBuilt</th>\n",
       "      <th>YearRemodAdd</th>\n",
       "      <th>MasVnrArea</th>\n",
       "      <th>BsmtFinSF1</th>\n",
       "      <th>BsmtFinSF2</th>\n",
       "      <th>...</th>\n",
       "      <th>Electrical</th>\n",
       "      <th>KitchenQual</th>\n",
       "      <th>Functional</th>\n",
       "      <th>GarageType</th>\n",
       "      <th>GarageFinish</th>\n",
       "      <th>GarageQual</th>\n",
       "      <th>GarageCond</th>\n",
       "      <th>PavedDrive</th>\n",
       "      <th>SaleType</th>\n",
       "      <th>SaleCondition</th>\n",
       "    </tr>\n",
       "  </thead>\n",
       "  <tbody>\n",
       "    <tr>\n",
       "      <th>0</th>\n",
       "      <td>1461</td>\n",
       "      <td>20</td>\n",
       "      <td>11622</td>\n",
       "      <td>5</td>\n",
       "      <td>6</td>\n",
       "      <td>1961</td>\n",
       "      <td>1961</td>\n",
       "      <td>0.0</td>\n",
       "      <td>468.0</td>\n",
       "      <td>144.0</td>\n",
       "      <td>...</td>\n",
       "      <td>SBrkr</td>\n",
       "      <td>TA</td>\n",
       "      <td>Typ</td>\n",
       "      <td>Attchd</td>\n",
       "      <td>Unf</td>\n",
       "      <td>TA</td>\n",
       "      <td>TA</td>\n",
       "      <td>Y</td>\n",
       "      <td>WD</td>\n",
       "      <td>Normal</td>\n",
       "    </tr>\n",
       "    <tr>\n",
       "      <th>1</th>\n",
       "      <td>1462</td>\n",
       "      <td>20</td>\n",
       "      <td>14267</td>\n",
       "      <td>6</td>\n",
       "      <td>6</td>\n",
       "      <td>1958</td>\n",
       "      <td>1958</td>\n",
       "      <td>108.0</td>\n",
       "      <td>923.0</td>\n",
       "      <td>0.0</td>\n",
       "      <td>...</td>\n",
       "      <td>SBrkr</td>\n",
       "      <td>Gd</td>\n",
       "      <td>Typ</td>\n",
       "      <td>Attchd</td>\n",
       "      <td>Unf</td>\n",
       "      <td>TA</td>\n",
       "      <td>TA</td>\n",
       "      <td>Y</td>\n",
       "      <td>WD</td>\n",
       "      <td>Normal</td>\n",
       "    </tr>\n",
       "    <tr>\n",
       "      <th>2</th>\n",
       "      <td>1463</td>\n",
       "      <td>60</td>\n",
       "      <td>13830</td>\n",
       "      <td>5</td>\n",
       "      <td>5</td>\n",
       "      <td>1997</td>\n",
       "      <td>1998</td>\n",
       "      <td>0.0</td>\n",
       "      <td>791.0</td>\n",
       "      <td>0.0</td>\n",
       "      <td>...</td>\n",
       "      <td>SBrkr</td>\n",
       "      <td>TA</td>\n",
       "      <td>Typ</td>\n",
       "      <td>Attchd</td>\n",
       "      <td>Fin</td>\n",
       "      <td>TA</td>\n",
       "      <td>TA</td>\n",
       "      <td>Y</td>\n",
       "      <td>WD</td>\n",
       "      <td>Normal</td>\n",
       "    </tr>\n",
       "    <tr>\n",
       "      <th>3</th>\n",
       "      <td>1464</td>\n",
       "      <td>60</td>\n",
       "      <td>9978</td>\n",
       "      <td>6</td>\n",
       "      <td>6</td>\n",
       "      <td>1998</td>\n",
       "      <td>1998</td>\n",
       "      <td>20.0</td>\n",
       "      <td>602.0</td>\n",
       "      <td>0.0</td>\n",
       "      <td>...</td>\n",
       "      <td>SBrkr</td>\n",
       "      <td>Gd</td>\n",
       "      <td>Typ</td>\n",
       "      <td>Attchd</td>\n",
       "      <td>Fin</td>\n",
       "      <td>TA</td>\n",
       "      <td>TA</td>\n",
       "      <td>Y</td>\n",
       "      <td>WD</td>\n",
       "      <td>Normal</td>\n",
       "    </tr>\n",
       "    <tr>\n",
       "      <th>4</th>\n",
       "      <td>1465</td>\n",
       "      <td>120</td>\n",
       "      <td>5005</td>\n",
       "      <td>8</td>\n",
       "      <td>5</td>\n",
       "      <td>1992</td>\n",
       "      <td>1992</td>\n",
       "      <td>0.0</td>\n",
       "      <td>263.0</td>\n",
       "      <td>0.0</td>\n",
       "      <td>...</td>\n",
       "      <td>SBrkr</td>\n",
       "      <td>Gd</td>\n",
       "      <td>Typ</td>\n",
       "      <td>Attchd</td>\n",
       "      <td>RFn</td>\n",
       "      <td>TA</td>\n",
       "      <td>TA</td>\n",
       "      <td>Y</td>\n",
       "      <td>WD</td>\n",
       "      <td>Normal</td>\n",
       "    </tr>\n",
       "  </tbody>\n",
       "</table>\n",
       "<p>5 rows × 73 columns</p>\n",
       "</div>"
      ],
      "text/plain": [
       "     Id  MSSubClass  LotArea  OverallQual  OverallCond  YearBuilt  \\\n",
       "0  1461          20    11622            5            6       1961   \n",
       "1  1462          20    14267            6            6       1958   \n",
       "2  1463          60    13830            5            5       1997   \n",
       "3  1464          60     9978            6            6       1998   \n",
       "4  1465         120     5005            8            5       1992   \n",
       "\n",
       "   YearRemodAdd MasVnrArea BsmtFinSF1 BsmtFinSF2  ... Electrical  KitchenQual  \\\n",
       "0          1961        0.0      468.0      144.0  ...      SBrkr           TA   \n",
       "1          1958      108.0      923.0        0.0  ...      SBrkr           Gd   \n",
       "2          1998        0.0      791.0        0.0  ...      SBrkr           TA   \n",
       "3          1998       20.0      602.0        0.0  ...      SBrkr           Gd   \n",
       "4          1992        0.0      263.0        0.0  ...      SBrkr           Gd   \n",
       "\n",
       "   Functional  GarageType  GarageFinish  GarageQual GarageCond PavedDrive  \\\n",
       "0         Typ      Attchd           Unf          TA         TA          Y   \n",
       "1         Typ      Attchd           Unf          TA         TA          Y   \n",
       "2         Typ      Attchd           Fin          TA         TA          Y   \n",
       "3         Typ      Attchd           Fin          TA         TA          Y   \n",
       "4         Typ      Attchd           RFn          TA         TA          Y   \n",
       "\n",
       "   SaleType  SaleCondition  \n",
       "0        WD         Normal  \n",
       "1        WD         Normal  \n",
       "2        WD         Normal  \n",
       "3        WD         Normal  \n",
       "4        WD         Normal  \n",
       "\n",
       "[5 rows x 73 columns]"
      ]
     },
     "execution_count": 82,
     "metadata": {},
     "output_type": "execute_result"
    }
   ],
   "source": []
  },
  {
   "cell_type": "code",
   "execution_count": null,
   "metadata": {},
   "outputs": [],
   "source": []
  }
 ],
 "metadata": {
  "kernelspec": {
   "display_name": "Python 3",
   "language": "python",
   "name": "python3"
  },
  "language_info": {
   "codemirror_mode": {
    "name": "ipython",
    "version": 3
   },
   "file_extension": ".py",
   "mimetype": "text/x-python",
   "name": "python",
   "nbconvert_exporter": "python",
   "pygments_lexer": "ipython3",
   "version": "3.12.2"
  }
 },
 "nbformat": 4,
 "nbformat_minor": 2
}
