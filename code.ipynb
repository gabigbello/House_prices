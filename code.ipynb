{
 "cells": [
  {
   "cell_type": "code",
   "execution_count": 903,
   "metadata": {},
   "outputs": [],
   "source": [
    "#Importing libraries\n",
    "import pandas as pd\n",
    "import numpy as np\n",
    "import matplotlib.pyplot as plt\n",
    "from sklearn.cluster import KMeans\n",
    "#machine learning\n",
    "from sklearn import tree\n",
    "from sklearn.linear_model import LinearRegression\n",
    "from sklearn.linear_model import LogisticRegression\n",
    "from sklearn.svm import SVC, LinearSVC\n",
    "from sklearn.ensemble import RandomForestClassifier\n",
    "from sklearn.neighbors import KNeighborsClassifier\n",
    "from sklearn.naive_bayes import GaussianNB\n",
    "from sklearn.linear_model import Perceptron\n",
    "from sklearn.linear_model import SGDClassifier\n",
    "from sklearn.tree import DecisionTreeClassifier\n",
    "from sklearn.datasets import fetch_openml\n",
    "from sklearn.model_selection import train_test_split\n",
    "from sklearn.preprocessing import StandardScaler\n",
    "from sklearn.neural_network import MLPClassifier\n",
    "from sklearn.metrics import classification_report, confusion_matrix\n",
    "from sklearn.metrics import mean_absolute_error\n",
    "from sklearn.metrics import mean_squared_error"
   ]
  },
  {
   "cell_type": "code",
   "execution_count": 904,
   "metadata": {},
   "outputs": [],
   "source": [
    "#Importing train and test dataset\n",
    "test = pd.read_csv(\"test.csv\",sep=\",\")\n",
    "train = pd.read_csv(\"train.csv\",sep=\",\")"
   ]
  },
  {
   "cell_type": "code",
   "execution_count": 905,
   "metadata": {},
   "outputs": [],
   "source": [
    "#-----------------------------------------------------------------------------------------------------------------------------------------------------\n",
    "#TRAIN DATASET\n",
    "#-----------------------------------------------------------------------------------------------------------------------------------------------------"
   ]
  },
  {
   "cell_type": "code",
   "execution_count": 906,
   "metadata": {},
   "outputs": [
    {
     "data": {
      "text/html": [
       "<div>\n",
       "<style scoped>\n",
       "    .dataframe tbody tr th:only-of-type {\n",
       "        vertical-align: middle;\n",
       "    }\n",
       "\n",
       "    .dataframe tbody tr th {\n",
       "        vertical-align: top;\n",
       "    }\n",
       "\n",
       "    .dataframe thead th {\n",
       "        text-align: right;\n",
       "    }\n",
       "</style>\n",
       "<table border=\"1\" class=\"dataframe\">\n",
       "  <thead>\n",
       "    <tr style=\"text-align: right;\">\n",
       "      <th></th>\n",
       "      <th>Id</th>\n",
       "      <th>MSSubClass</th>\n",
       "      <th>MSZoning</th>\n",
       "      <th>LotFrontage</th>\n",
       "      <th>LotArea</th>\n",
       "      <th>Street</th>\n",
       "      <th>Alley</th>\n",
       "      <th>LotShape</th>\n",
       "      <th>LandContour</th>\n",
       "      <th>Utilities</th>\n",
       "      <th>...</th>\n",
       "      <th>PoolArea</th>\n",
       "      <th>PoolQC</th>\n",
       "      <th>Fence</th>\n",
       "      <th>MiscFeature</th>\n",
       "      <th>MiscVal</th>\n",
       "      <th>MoSold</th>\n",
       "      <th>YrSold</th>\n",
       "      <th>SaleType</th>\n",
       "      <th>SaleCondition</th>\n",
       "      <th>SalePrice</th>\n",
       "    </tr>\n",
       "  </thead>\n",
       "  <tbody>\n",
       "    <tr>\n",
       "      <th>0</th>\n",
       "      <td>1</td>\n",
       "      <td>60</td>\n",
       "      <td>RL</td>\n",
       "      <td>65.0</td>\n",
       "      <td>8450</td>\n",
       "      <td>Pave</td>\n",
       "      <td>NaN</td>\n",
       "      <td>Reg</td>\n",
       "      <td>Lvl</td>\n",
       "      <td>AllPub</td>\n",
       "      <td>...</td>\n",
       "      <td>0</td>\n",
       "      <td>NaN</td>\n",
       "      <td>NaN</td>\n",
       "      <td>NaN</td>\n",
       "      <td>0</td>\n",
       "      <td>2</td>\n",
       "      <td>2008</td>\n",
       "      <td>WD</td>\n",
       "      <td>Normal</td>\n",
       "      <td>208500</td>\n",
       "    </tr>\n",
       "    <tr>\n",
       "      <th>1</th>\n",
       "      <td>2</td>\n",
       "      <td>20</td>\n",
       "      <td>RL</td>\n",
       "      <td>80.0</td>\n",
       "      <td>9600</td>\n",
       "      <td>Pave</td>\n",
       "      <td>NaN</td>\n",
       "      <td>Reg</td>\n",
       "      <td>Lvl</td>\n",
       "      <td>AllPub</td>\n",
       "      <td>...</td>\n",
       "      <td>0</td>\n",
       "      <td>NaN</td>\n",
       "      <td>NaN</td>\n",
       "      <td>NaN</td>\n",
       "      <td>0</td>\n",
       "      <td>5</td>\n",
       "      <td>2007</td>\n",
       "      <td>WD</td>\n",
       "      <td>Normal</td>\n",
       "      <td>181500</td>\n",
       "    </tr>\n",
       "    <tr>\n",
       "      <th>2</th>\n",
       "      <td>3</td>\n",
       "      <td>60</td>\n",
       "      <td>RL</td>\n",
       "      <td>68.0</td>\n",
       "      <td>11250</td>\n",
       "      <td>Pave</td>\n",
       "      <td>NaN</td>\n",
       "      <td>IR1</td>\n",
       "      <td>Lvl</td>\n",
       "      <td>AllPub</td>\n",
       "      <td>...</td>\n",
       "      <td>0</td>\n",
       "      <td>NaN</td>\n",
       "      <td>NaN</td>\n",
       "      <td>NaN</td>\n",
       "      <td>0</td>\n",
       "      <td>9</td>\n",
       "      <td>2008</td>\n",
       "      <td>WD</td>\n",
       "      <td>Normal</td>\n",
       "      <td>223500</td>\n",
       "    </tr>\n",
       "  </tbody>\n",
       "</table>\n",
       "<p>3 rows × 81 columns</p>\n",
       "</div>"
      ],
      "text/plain": [
       "   Id  MSSubClass MSZoning  LotFrontage  LotArea Street Alley LotShape  \\\n",
       "0   1          60       RL         65.0     8450   Pave   NaN      Reg   \n",
       "1   2          20       RL         80.0     9600   Pave   NaN      Reg   \n",
       "2   3          60       RL         68.0    11250   Pave   NaN      IR1   \n",
       "\n",
       "  LandContour Utilities  ... PoolArea PoolQC Fence MiscFeature MiscVal MoSold  \\\n",
       "0         Lvl    AllPub  ...        0    NaN   NaN         NaN       0      2   \n",
       "1         Lvl    AllPub  ...        0    NaN   NaN         NaN       0      5   \n",
       "2         Lvl    AllPub  ...        0    NaN   NaN         NaN       0      9   \n",
       "\n",
       "  YrSold  SaleType  SaleCondition  SalePrice  \n",
       "0   2008        WD         Normal     208500  \n",
       "1   2007        WD         Normal     181500  \n",
       "2   2008        WD         Normal     223500  \n",
       "\n",
       "[3 rows x 81 columns]"
      ]
     },
     "execution_count": 906,
     "metadata": {},
     "output_type": "execute_result"
    }
   ],
   "source": [
    "#Train - description\n",
    "train.head(3) #initially we have a lot of null values"
   ]
  },
  {
   "cell_type": "code",
   "execution_count": 907,
   "metadata": {},
   "outputs": [
    {
     "data": {
      "text/plain": [
       "(1460, 81)"
      ]
     },
     "execution_count": 907,
     "metadata": {},
     "output_type": "execute_result"
    }
   ],
   "source": [
    "#Train - shape\n",
    "train.shape #we have initially 1460 rows and 81 columns "
   ]
  },
  {
   "cell_type": "code",
   "execution_count": 908,
   "metadata": {},
   "outputs": [
    {
     "name": "stdout",
     "output_type": "stream",
     "text": [
      "<class 'pandas.core.frame.DataFrame'>\n",
      "RangeIndex: 1460 entries, 0 to 1459\n",
      "Data columns (total 81 columns):\n",
      " #   Column         Non-Null Count  Dtype  \n",
      "---  ------         --------------  -----  \n",
      " 0   Id             1460 non-null   int64  \n",
      " 1   MSSubClass     1460 non-null   int64  \n",
      " 2   MSZoning       1460 non-null   object \n",
      " 3   LotFrontage    1201 non-null   float64\n",
      " 4   LotArea        1460 non-null   int64  \n",
      " 5   Street         1460 non-null   object \n",
      " 6   Alley          91 non-null     object \n",
      " 7   LotShape       1460 non-null   object \n",
      " 8   LandContour    1460 non-null   object \n",
      " 9   Utilities      1460 non-null   object \n",
      " 10  LotConfig      1460 non-null   object \n",
      " 11  LandSlope      1460 non-null   object \n",
      " 12  Neighborhood   1460 non-null   object \n",
      " 13  Condition1     1460 non-null   object \n",
      " 14  Condition2     1460 non-null   object \n",
      " 15  BldgType       1460 non-null   object \n",
      " 16  HouseStyle     1460 non-null   object \n",
      " 17  OverallQual    1460 non-null   int64  \n",
      " 18  OverallCond    1460 non-null   int64  \n",
      " 19  YearBuilt      1460 non-null   int64  \n",
      " 20  YearRemodAdd   1460 non-null   int64  \n",
      " 21  RoofStyle      1460 non-null   object \n",
      " 22  RoofMatl       1460 non-null   object \n",
      " 23  Exterior1st    1460 non-null   object \n",
      " 24  Exterior2nd    1460 non-null   object \n",
      " 25  MasVnrType     588 non-null    object \n",
      " 26  MasVnrArea     1452 non-null   float64\n",
      " 27  ExterQual      1460 non-null   object \n",
      " 28  ExterCond      1460 non-null   object \n",
      " 29  Foundation     1460 non-null   object \n",
      " 30  BsmtQual       1423 non-null   object \n",
      " 31  BsmtCond       1423 non-null   object \n",
      " 32  BsmtExposure   1422 non-null   object \n",
      " 33  BsmtFinType1   1423 non-null   object \n",
      " 34  BsmtFinSF1     1460 non-null   int64  \n",
      " 35  BsmtFinType2   1422 non-null   object \n",
      " 36  BsmtFinSF2     1460 non-null   int64  \n",
      " 37  BsmtUnfSF      1460 non-null   int64  \n",
      " 38  TotalBsmtSF    1460 non-null   int64  \n",
      " 39  Heating        1460 non-null   object \n",
      " 40  HeatingQC      1460 non-null   object \n",
      " 41  CentralAir     1460 non-null   object \n",
      " 42  Electrical     1459 non-null   object \n",
      " 43  1stFlrSF       1460 non-null   int64  \n",
      " 44  2ndFlrSF       1460 non-null   int64  \n",
      " 45  LowQualFinSF   1460 non-null   int64  \n",
      " 46  GrLivArea      1460 non-null   int64  \n",
      " 47  BsmtFullBath   1460 non-null   int64  \n",
      " 48  BsmtHalfBath   1460 non-null   int64  \n",
      " 49  FullBath       1460 non-null   int64  \n",
      " 50  HalfBath       1460 non-null   int64  \n",
      " 51  BedroomAbvGr   1460 non-null   int64  \n",
      " 52  KitchenAbvGr   1460 non-null   int64  \n",
      " 53  KitchenQual    1460 non-null   object \n",
      " 54  TotRmsAbvGrd   1460 non-null   int64  \n",
      " 55  Functional     1460 non-null   object \n",
      " 56  Fireplaces     1460 non-null   int64  \n",
      " 57  FireplaceQu    770 non-null    object \n",
      " 58  GarageType     1379 non-null   object \n",
      " 59  GarageYrBlt    1379 non-null   float64\n",
      " 60  GarageFinish   1379 non-null   object \n",
      " 61  GarageCars     1460 non-null   int64  \n",
      " 62  GarageArea     1460 non-null   int64  \n",
      " 63  GarageQual     1379 non-null   object \n",
      " 64  GarageCond     1379 non-null   object \n",
      " 65  PavedDrive     1460 non-null   object \n",
      " 66  WoodDeckSF     1460 non-null   int64  \n",
      " 67  OpenPorchSF    1460 non-null   int64  \n",
      " 68  EnclosedPorch  1460 non-null   int64  \n",
      " 69  3SsnPorch      1460 non-null   int64  \n",
      " 70  ScreenPorch    1460 non-null   int64  \n",
      " 71  PoolArea       1460 non-null   int64  \n",
      " 72  PoolQC         7 non-null      object \n",
      " 73  Fence          281 non-null    object \n",
      " 74  MiscFeature    54 non-null     object \n",
      " 75  MiscVal        1460 non-null   int64  \n",
      " 76  MoSold         1460 non-null   int64  \n",
      " 77  YrSold         1460 non-null   int64  \n",
      " 78  SaleType       1460 non-null   object \n",
      " 79  SaleCondition  1460 non-null   object \n",
      " 80  SalePrice      1460 non-null   int64  \n",
      "dtypes: float64(3), int64(35), object(43)\n",
      "memory usage: 924.0+ KB\n"
     ]
    }
   ],
   "source": [
    "#Train - info\n",
    "train.info()"
   ]
  },
  {
   "cell_type": "code",
   "execution_count": 909,
   "metadata": {},
   "outputs": [
    {
     "data": {
      "text/plain": [
       "PoolQC          0.995205\n",
       "MiscFeature     0.963014\n",
       "Alley           0.937671\n",
       "Fence           0.807534\n",
       "MasVnrType      0.597260\n",
       "FireplaceQu     0.472603\n",
       "LotFrontage     0.177397\n",
       "GarageYrBlt     0.055479\n",
       "GarageCond      0.055479\n",
       "GarageType      0.055479\n",
       "GarageFinish    0.055479\n",
       "GarageQual      0.055479\n",
       "BsmtFinType2    0.026027\n",
       "BsmtExposure    0.026027\n",
       "BsmtQual        0.025342\n",
       "BsmtCond        0.025342\n",
       "BsmtFinType1    0.025342\n",
       "MasVnrArea      0.005479\n",
       "Electrical      0.000685\n",
       "Id              0.000000\n",
       "dtype: float64"
      ]
     },
     "execution_count": 909,
     "metadata": {},
     "output_type": "execute_result"
    }
   ],
   "source": [
    "#Studying null values\n",
    "(train.isnull().sum()/train.shape[0]).sort_values(ascending=False).head(20) #finding % of null values in each column"
   ]
  },
  {
   "cell_type": "code",
   "execution_count": 910,
   "metadata": {},
   "outputs": [],
   "source": [
    "#Deleting all columns with more than 10% of null values\n",
    "remove = train.columns[(train.isnull().sum()/train.shape[0]) > 0.1]\n",
    "train = train.drop(remove,axis=1)"
   ]
  },
  {
   "cell_type": "code",
   "execution_count": 911,
   "metadata": {},
   "outputs": [],
   "source": [
    "#Checking numeric columns\n",
    "numeric_columns = train.columns[train.dtypes != 'object']"
   ]
  },
  {
   "cell_type": "code",
   "execution_count": 912,
   "metadata": {},
   "outputs": [],
   "source": [
    "#Checking categoric columns\n",
    "categoric_columns = train.columns[train.dtypes == 'object']"
   ]
  },
  {
   "cell_type": "code",
   "execution_count": 913,
   "metadata": {},
   "outputs": [
    {
     "data": {
      "text/plain": [
       "GarageYrBlt      81\n",
       "MasVnrArea        8\n",
       "Id                0\n",
       "OpenPorchSF       0\n",
       "KitchenAbvGr      0\n",
       "TotRmsAbvGrd      0\n",
       "Fireplaces        0\n",
       "GarageCars        0\n",
       "GarageArea        0\n",
       "WoodDeckSF        0\n",
       "EnclosedPorch     0\n",
       "HalfBath          0\n",
       "3SsnPorch         0\n",
       "ScreenPorch       0\n",
       "PoolArea          0\n",
       "MiscVal           0\n",
       "MoSold            0\n",
       "YrSold            0\n",
       "BedroomAbvGr      0\n",
       "FullBath          0\n",
       "MSSubClass        0\n",
       "BsmtFinSF2        0\n",
       "LotArea           0\n",
       "OverallQual       0\n",
       "OverallCond       0\n",
       "YearBuilt         0\n",
       "YearRemodAdd      0\n",
       "BsmtFinSF1        0\n",
       "BsmtUnfSF         0\n",
       "BsmtHalfBath      0\n",
       "TotalBsmtSF       0\n",
       "1stFlrSF          0\n",
       "2ndFlrSF          0\n",
       "LowQualFinSF      0\n",
       "GrLivArea         0\n",
       "BsmtFullBath      0\n",
       "SalePrice         0\n",
       "dtype: int64"
      ]
     },
     "execution_count": 913,
     "metadata": {},
     "output_type": "execute_result"
    }
   ],
   "source": [
    "#Checking and treating null values on numeric train base\n",
    "train_numeric = train.loc[:,numeric_columns]\n",
    "train_numeric.head()\n",
    "train_numeric.isnull().sum().sort_values(ascending=False) #Two columns with null values: GarageYrBlt and MasVnrArea"
   ]
  },
  {
   "cell_type": "code",
   "execution_count": 914,
   "metadata": {},
   "outputs": [
    {
     "name": "stderr",
     "output_type": "stream",
     "text": [
      "C:\\Users\\Gabi Bello\\AppData\\Local\\Temp\\ipykernel_17984\\3389591650.py:4: FutureWarning: A value is trying to be set on a copy of a DataFrame or Series through chained assignment using an inplace method.\n",
      "The behavior will change in pandas 3.0. This inplace method will never work because the intermediate object on which we are setting values always behaves as a copy.\n",
      "\n",
      "For example, when doing 'df[col].method(value, inplace=True)', try using 'df.method({col: value}, inplace=True)' or df[col] = df[col].method(value) instead, to perform the operation inplace on the original object.\n",
      "\n",
      "\n",
      "  train_numeric['GarageYrBlt'].fillna(pd.Series(np.random.choice(top_garageyrblt,size=len(train_numeric.index))), inplace=True)\n"
     ]
    },
    {
     "data": {
      "text/plain": [
       "MasVnrArea       8\n",
       "Id               0\n",
       "OpenPorchSF      0\n",
       "KitchenAbvGr     0\n",
       "TotRmsAbvGrd     0\n",
       "Fireplaces       0\n",
       "GarageYrBlt      0\n",
       "GarageCars       0\n",
       "GarageArea       0\n",
       "WoodDeckSF       0\n",
       "EnclosedPorch    0\n",
       "HalfBath         0\n",
       "3SsnPorch        0\n",
       "ScreenPorch      0\n",
       "PoolArea         0\n",
       "MiscVal          0\n",
       "MoSold           0\n",
       "YrSold           0\n",
       "BedroomAbvGr     0\n",
       "FullBath         0\n",
       "MSSubClass       0\n",
       "BsmtFinSF2       0\n",
       "LotArea          0\n",
       "OverallQual      0\n",
       "OverallCond      0\n",
       "YearBuilt        0\n",
       "YearRemodAdd     0\n",
       "BsmtFinSF1       0\n",
       "BsmtUnfSF        0\n",
       "BsmtHalfBath     0\n",
       "TotalBsmtSF      0\n",
       "1stFlrSF         0\n",
       "2ndFlrSF         0\n",
       "LowQualFinSF     0\n",
       "GrLivArea        0\n",
       "BsmtFullBath     0\n",
       "SalePrice        0\n",
       "dtype: int64"
      ]
     },
     "execution_count": 914,
     "metadata": {},
     "output_type": "execute_result"
    }
   ],
   "source": [
    "#GarageYrBlt\n",
    "top_garageyrblt = train_numeric.groupby(train_numeric['GarageYrBlt']).size().sort_values(ascending=False).head(5).tolist()\n",
    "#In order, we get: 2005.0,2006.0,2004.0,2003.0,2007.0. Will use these values to fill the null\n",
    "train_numeric['GarageYrBlt'].fillna(pd.Series(np.random.choice(top_garageyrblt,size=len(train_numeric.index))), inplace=True)\n",
    "#Checking if we still have null values\n",
    "train_numeric.isnull().sum().sort_values(ascending=False)"
   ]
  },
  {
   "cell_type": "code",
   "execution_count": 915,
   "metadata": {},
   "outputs": [
    {
     "name": "stderr",
     "output_type": "stream",
     "text": [
      "C:\\Users\\Gabi Bello\\AppData\\Local\\Temp\\ipykernel_17984\\3381189239.py:3: FutureWarning: A value is trying to be set on a copy of a DataFrame or Series through chained assignment using an inplace method.\n",
      "The behavior will change in pandas 3.0. This inplace method will never work because the intermediate object on which we are setting values always behaves as a copy.\n",
      "\n",
      "For example, when doing 'df[col].method(value, inplace=True)', try using 'df.method({col: value}, inplace=True)' or df[col] = df[col].method(value) instead, to perform the operation inplace on the original object.\n",
      "\n",
      "\n",
      "  train_numeric['MasVnrArea'].fillna(top_masva, inplace=True)\n"
     ]
    },
    {
     "data": {
      "text/plain": [
       "MasVnrArea       8\n",
       "Id               0\n",
       "OpenPorchSF      0\n",
       "KitchenAbvGr     0\n",
       "TotRmsAbvGrd     0\n",
       "Fireplaces       0\n",
       "GarageYrBlt      0\n",
       "GarageCars       0\n",
       "GarageArea       0\n",
       "WoodDeckSF       0\n",
       "EnclosedPorch    0\n",
       "HalfBath         0\n",
       "3SsnPorch        0\n",
       "ScreenPorch      0\n",
       "PoolArea         0\n",
       "MiscVal          0\n",
       "MoSold           0\n",
       "YrSold           0\n",
       "BedroomAbvGr     0\n",
       "FullBath         0\n",
       "MSSubClass       0\n",
       "BsmtFinSF2       0\n",
       "LotArea          0\n",
       "OverallQual      0\n",
       "OverallCond      0\n",
       "YearBuilt        0\n",
       "YearRemodAdd     0\n",
       "BsmtFinSF1       0\n",
       "BsmtUnfSF        0\n",
       "BsmtHalfBath     0\n",
       "TotalBsmtSF      0\n",
       "1stFlrSF         0\n",
       "2ndFlrSF         0\n",
       "LowQualFinSF     0\n",
       "GrLivArea        0\n",
       "BsmtFullBath     0\n",
       "SalePrice        0\n",
       "dtype: int64"
      ]
     },
     "execution_count": 915,
     "metadata": {},
     "output_type": "execute_result"
    }
   ],
   "source": [
    "#MasVnrArea\n",
    "top_masva = train_numeric.groupby(train_numeric['MasVnrArea']).size().sort_values(ascending=False).head(1)\n",
    "train_numeric['MasVnrArea'].fillna(top_masva, inplace=True)\n",
    "#Checking if we still have null values\n",
    "train_numeric.isnull().sum().sort_values(ascending=False) #No more null values"
   ]
  },
  {
   "cell_type": "code",
   "execution_count": 916,
   "metadata": {},
   "outputs": [
    {
     "data": {
      "text/plain": [
       "'\\nColumns with null values:\\nGarageCond       81\\nGarageQual       81\\nGarageFinish     81\\nGarageType       81\\nBsmtExposure     38\\nBsmtFinType2     38\\nBsmtCond         37\\nBsmtFinType1     37\\nBsmtQual         37\\nElectrical        1\\n'"
      ]
     },
     "execution_count": 916,
     "metadata": {},
     "output_type": "execute_result"
    }
   ],
   "source": [
    "#Checking and treating null values on categoric train base\n",
    "train_categoric = train.loc[:,categoric_columns]\n",
    "train_categoric.head()\n",
    "train_categoric.isnull().sum().sort_values(ascending=False)\n",
    "'''\n",
    "Columns with null values:\n",
    "GarageCond       81\n",
    "GarageQual       81\n",
    "GarageFinish     81\n",
    "GarageType       81\n",
    "BsmtExposure     38\n",
    "BsmtFinType2     38\n",
    "BsmtCond         37\n",
    "BsmtFinType1     37\n",
    "BsmtQual         37\n",
    "Electrical        1\n",
    "'''"
   ]
  },
  {
   "cell_type": "code",
   "execution_count": 917,
   "metadata": {},
   "outputs": [
    {
     "name": "stderr",
     "output_type": "stream",
     "text": [
      "C:\\Users\\Gabi Bello\\AppData\\Local\\Temp\\ipykernel_17984\\2070289506.py:4: FutureWarning: A value is trying to be set on a copy of a DataFrame or Series through chained assignment using an inplace method.\n",
      "The behavior will change in pandas 3.0. This inplace method will never work because the intermediate object on which we are setting values always behaves as a copy.\n",
      "\n",
      "For example, when doing 'df[col].method(value, inplace=True)', try using 'df.method({col: value}, inplace=True)' or df[col] = df[col].method(value) instead, to perform the operation inplace on the original object.\n",
      "\n",
      "\n",
      "  train_categoric['GarageCond'].fillna('TA',inplace=True)\n"
     ]
    },
    {
     "data": {
      "text/plain": [
       "GarageQual       81\n",
       "GarageFinish     81\n",
       "GarageType       81\n",
       "BsmtExposure     38\n",
       "BsmtFinType2     38\n",
       "BsmtCond         37\n",
       "BsmtFinType1     37\n",
       "BsmtQual         37\n",
       "Electrical        1\n",
       "HeatingQC         0\n",
       "Heating           0\n",
       "MSZoning          0\n",
       "CentralAir        0\n",
       "Functional        0\n",
       "GarageCond        0\n",
       "PavedDrive        0\n",
       "SaleType          0\n",
       "KitchenQual       0\n",
       "Foundation        0\n",
       "Street            0\n",
       "ExterCond         0\n",
       "LotShape          0\n",
       "LandContour       0\n",
       "Utilities         0\n",
       "LotConfig         0\n",
       "LandSlope         0\n",
       "Neighborhood      0\n",
       "Condition1        0\n",
       "Condition2        0\n",
       "BldgType          0\n",
       "HouseStyle        0\n",
       "RoofStyle         0\n",
       "RoofMatl          0\n",
       "Exterior1st       0\n",
       "Exterior2nd       0\n",
       "ExterQual         0\n",
       "SaleCondition     0\n",
       "dtype: int64"
      ]
     },
     "execution_count": 917,
     "metadata": {},
     "output_type": "execute_result"
    }
   ],
   "source": [
    "#GarageCond\n",
    "garage_cond = train_categoric.groupby(train_categoric['GarageCond']).size().sort_values(ascending=False).head(5)\n",
    "#Since we have a huge difference between 'TA' and other values in this column, we will replace null values for 'TA'\n",
    "train_categoric['GarageCond'].fillna('TA',inplace=True)\n",
    "#Checking if we still have null values on GarageCond\n",
    "train_categoric.isnull().sum().sort_values(ascending=False)"
   ]
  },
  {
   "cell_type": "code",
   "execution_count": 918,
   "metadata": {},
   "outputs": [
    {
     "name": "stderr",
     "output_type": "stream",
     "text": [
      "C:\\Users\\Gabi Bello\\AppData\\Local\\Temp\\ipykernel_17984\\906827080.py:7: FutureWarning: A value is trying to be set on a copy of a DataFrame or Series through chained assignment using an inplace method.\n",
      "The behavior will change in pandas 3.0. This inplace method will never work because the intermediate object on which we are setting values always behaves as a copy.\n",
      "\n",
      "For example, when doing 'df[col].method(value, inplace=True)', try using 'df.method({col: value}, inplace=True)' or df[col] = df[col].method(value) instead, to perform the operation inplace on the original object.\n",
      "\n",
      "\n",
      "  train_categoric['GarageQual'].fillna('TA',inplace=True)\n",
      "C:\\Users\\Gabi Bello\\AppData\\Local\\Temp\\ipykernel_17984\\906827080.py:9: FutureWarning: A value is trying to be set on a copy of a DataFrame or Series through chained assignment using an inplace method.\n",
      "The behavior will change in pandas 3.0. This inplace method will never work because the intermediate object on which we are setting values always behaves as a copy.\n",
      "\n",
      "For example, when doing 'df[col].method(value, inplace=True)', try using 'df.method({col: value}, inplace=True)' or df[col] = df[col].method(value) instead, to perform the operation inplace on the original object.\n",
      "\n",
      "\n",
      "  train_categoric['GarageFinish'].fillna(pd.Series(np.random.choice(garage_finish.tolist(),size=len(train_categoric.index))), inplace=True)\n",
      "C:\\Users\\Gabi Bello\\AppData\\Local\\Temp\\ipykernel_17984\\906827080.py:11: FutureWarning: A value is trying to be set on a copy of a DataFrame or Series through chained assignment using an inplace method.\n",
      "The behavior will change in pandas 3.0. This inplace method will never work because the intermediate object on which we are setting values always behaves as a copy.\n",
      "\n",
      "For example, when doing 'df[col].method(value, inplace=True)', try using 'df.method({col: value}, inplace=True)' or df[col] = df[col].method(value) instead, to perform the operation inplace on the original object.\n",
      "\n",
      "\n",
      "  train_categoric['GarageType'].fillna('Attchd',inplace=True)\n"
     ]
    }
   ],
   "source": [
    "#GarageQual, GarageFinish, GarageType\n",
    "garage_qual = train_categoric.groupby(train_categoric['GarageQual']).size().sort_values(ascending=False).head(5) #same case as GarageCond\n",
    "garage_finish = train_categoric.groupby(train_categoric['GarageFinish']).size().sort_values(ascending=False).head(5)\n",
    "garage_type = train_categoric.groupby(train_categoric['GarageType']).size().sort_values(ascending=False).head(5)\n",
    "\n",
    "#Garage qual is the same case as GarageCond -> Fill with TA\n",
    "train_categoric['GarageQual'].fillna('TA',inplace=True)\n",
    "#For GarageFinish, we have not much difference between the data, so we will random fill the null values\n",
    "train_categoric['GarageFinish'].fillna(pd.Series(np.random.choice(garage_finish.tolist(),size=len(train_categoric.index))), inplace=True)\n",
    "#For GarageType, we have a huge difference between \"Attchd\" and other values, so we can fill the null values with this item\n",
    "train_categoric['GarageType'].fillna('Attchd',inplace=True)"
   ]
  },
  {
   "cell_type": "code",
   "execution_count": 919,
   "metadata": {},
   "outputs": [
    {
     "name": "stderr",
     "output_type": "stream",
     "text": [
      "C:\\Users\\Gabi Bello\\AppData\\Local\\Temp\\ipykernel_17984\\2499582702.py:4: FutureWarning: A value is trying to be set on a copy of a DataFrame or Series through chained assignment using an inplace method.\n",
      "The behavior will change in pandas 3.0. This inplace method will never work because the intermediate object on which we are setting values always behaves as a copy.\n",
      "\n",
      "For example, when doing 'df[col].method(value, inplace=True)', try using 'df.method({col: value}, inplace=True)' or df[col] = df[col].method(value) instead, to perform the operation inplace on the original object.\n",
      "\n",
      "\n",
      "  train_categoric['BsmtExposure'].fillna('No',inplace=True)\n",
      "C:\\Users\\Gabi Bello\\AppData\\Local\\Temp\\ipykernel_17984\\2499582702.py:7: FutureWarning: A value is trying to be set on a copy of a DataFrame or Series through chained assignment using an inplace method.\n",
      "The behavior will change in pandas 3.0. This inplace method will never work because the intermediate object on which we are setting values always behaves as a copy.\n",
      "\n",
      "For example, when doing 'df[col].method(value, inplace=True)', try using 'df.method({col: value}, inplace=True)' or df[col] = df[col].method(value) instead, to perform the operation inplace on the original object.\n",
      "\n",
      "\n",
      "  train_categoric['BsmtFinType2'].fillna('Unf',inplace=True)\n",
      "C:\\Users\\Gabi Bello\\AppData\\Local\\Temp\\ipykernel_17984\\2499582702.py:10: FutureWarning: A value is trying to be set on a copy of a DataFrame or Series through chained assignment using an inplace method.\n",
      "The behavior will change in pandas 3.0. This inplace method will never work because the intermediate object on which we are setting values always behaves as a copy.\n",
      "\n",
      "For example, when doing 'df[col].method(value, inplace=True)', try using 'df.method({col: value}, inplace=True)' or df[col] = df[col].method(value) instead, to perform the operation inplace on the original object.\n",
      "\n",
      "\n",
      "  train_categoric['BsmtFinType1'].fillna(pd.Series(np.random.choice(bsmt_fin1.tolist(),size=len(train_categoric.index))), inplace=True)\n",
      "C:\\Users\\Gabi Bello\\AppData\\Local\\Temp\\ipykernel_17984\\2499582702.py:13: FutureWarning: A value is trying to be set on a copy of a DataFrame or Series through chained assignment using an inplace method.\n",
      "The behavior will change in pandas 3.0. This inplace method will never work because the intermediate object on which we are setting values always behaves as a copy.\n",
      "\n",
      "For example, when doing 'df[col].method(value, inplace=True)', try using 'df.method({col: value}, inplace=True)' or df[col] = df[col].method(value) instead, to perform the operation inplace on the original object.\n",
      "\n",
      "\n",
      "  train_categoric['BsmtCond'].fillna('TA',inplace=True)\n",
      "C:\\Users\\Gabi Bello\\AppData\\Local\\Temp\\ipykernel_17984\\2499582702.py:16: FutureWarning: A value is trying to be set on a copy of a DataFrame or Series through chained assignment using an inplace method.\n",
      "The behavior will change in pandas 3.0. This inplace method will never work because the intermediate object on which we are setting values always behaves as a copy.\n",
      "\n",
      "For example, when doing 'df[col].method(value, inplace=True)', try using 'df.method({col: value}, inplace=True)' or df[col] = df[col].method(value) instead, to perform the operation inplace on the original object.\n",
      "\n",
      "\n",
      "  train_categoric['BsmtQual'].fillna(pd.Series(np.random.choice(bsmt_qual.tolist(),size=len(train_categoric.index))), inplace=True)\n"
     ]
    }
   ],
   "source": [
    "#BsmtExposure, BsmtFinType2, BsmtCond, BsmtQual, BsmtFinType1\n",
    "bsmt_exposure = train_categoric.groupby(train_categoric['BsmtExposure']).size().sort_values(ascending=False).head(5)\n",
    "#Replacing for No, since it's an outstanding class in the data\n",
    "train_categoric['BsmtExposure'].fillna('No',inplace=True)\n",
    "bsmt_fin2 = train_categoric.groupby(train_categoric['BsmtFinType2']).size().sort_values(ascending=False).head(5)\n",
    "#Replacing for Unf, since it's an outstanding class in the data\n",
    "train_categoric['BsmtFinType2'].fillna('Unf',inplace=True)\n",
    "bsmt_fin1 = train_categoric.groupby(train_categoric['BsmtFinType1']).size().sort_values(ascending=False).head(2)\n",
    "#Random fill with top 2 values (430 and 418)\n",
    "train_categoric['BsmtFinType1'].fillna(pd.Series(np.random.choice(bsmt_fin1.tolist(),size=len(train_categoric.index))), inplace=True)\n",
    "bsmt_cond = train_categoric.groupby(train_categoric['BsmtCond']).size().sort_values(ascending=False).head(5)\n",
    "#Filling null with TA, since it's the outstanding value\n",
    "train_categoric['BsmtCond'].fillna('TA',inplace=True)\n",
    "bsmt_qual = train_categoric.groupby(train_categoric['BsmtQual']).size().sort_values(ascending=False).head(5)\n",
    "#Random filling null with top 2 values (649 and 618)\n",
    "train_categoric['BsmtQual'].fillna(pd.Series(np.random.choice(bsmt_qual.tolist(),size=len(train_categoric.index))), inplace=True)"
   ]
  },
  {
   "cell_type": "code",
   "execution_count": 920,
   "metadata": {},
   "outputs": [
    {
     "name": "stderr",
     "output_type": "stream",
     "text": [
      "C:\\Users\\Gabi Bello\\AppData\\Local\\Temp\\ipykernel_17984\\808131746.py:4: FutureWarning: A value is trying to be set on a copy of a DataFrame or Series through chained assignment using an inplace method.\n",
      "The behavior will change in pandas 3.0. This inplace method will never work because the intermediate object on which we are setting values always behaves as a copy.\n",
      "\n",
      "For example, when doing 'df[col].method(value, inplace=True)', try using 'df.method({col: value}, inplace=True)' or df[col] = df[col].method(value) instead, to perform the operation inplace on the original object.\n",
      "\n",
      "\n",
      "  train_categoric['Electrical'].fillna('SBrkr',inplace=True)\n"
     ]
    }
   ],
   "source": [
    "#Electrical\n",
    "electrical = train_categoric.groupby(train_categoric['Electrical']).size().sort_values(ascending=False).head(5)\n",
    "#Fill with 'Sbrkr' which is the most outstanding value\n",
    "train_categoric['Electrical'].fillna('SBrkr',inplace=True)"
   ]
  },
  {
   "cell_type": "code",
   "execution_count": 921,
   "metadata": {},
   "outputs": [],
   "source": [
    "#Getting our final train_dataset by combining both numeric and categoric data\n",
    "train_dataset = pd.concat([train_numeric,train_categoric],axis=1)"
   ]
  },
  {
   "cell_type": "code",
   "execution_count": 922,
   "metadata": {},
   "outputs": [],
   "source": [
    "#-----------------------------------------------------------------------------------------------------------------------------------------------------\n",
    "#TEST DATASET\n",
    "#-----------------------------------------------------------------------------------------------------------------------------------------------------"
   ]
  },
  {
   "cell_type": "code",
   "execution_count": 923,
   "metadata": {},
   "outputs": [
    {
     "name": "stdout",
     "output_type": "stream",
     "text": [
      "<class 'pandas.core.frame.DataFrame'>\n",
      "RangeIndex: 1459 entries, 0 to 1458\n",
      "Data columns (total 80 columns):\n",
      " #   Column         Non-Null Count  Dtype  \n",
      "---  ------         --------------  -----  \n",
      " 0   Id             1459 non-null   int64  \n",
      " 1   MSSubClass     1459 non-null   int64  \n",
      " 2   MSZoning       1455 non-null   object \n",
      " 3   LotFrontage    1232 non-null   float64\n",
      " 4   LotArea        1459 non-null   int64  \n",
      " 5   Street         1459 non-null   object \n",
      " 6   Alley          107 non-null    object \n",
      " 7   LotShape       1459 non-null   object \n",
      " 8   LandContour    1459 non-null   object \n",
      " 9   Utilities      1457 non-null   object \n",
      " 10  LotConfig      1459 non-null   object \n",
      " 11  LandSlope      1459 non-null   object \n",
      " 12  Neighborhood   1459 non-null   object \n",
      " 13  Condition1     1459 non-null   object \n",
      " 14  Condition2     1459 non-null   object \n",
      " 15  BldgType       1459 non-null   object \n",
      " 16  HouseStyle     1459 non-null   object \n",
      " 17  OverallQual    1459 non-null   int64  \n",
      " 18  OverallCond    1459 non-null   int64  \n",
      " 19  YearBuilt      1459 non-null   int64  \n",
      " 20  YearRemodAdd   1459 non-null   int64  \n",
      " 21  RoofStyle      1459 non-null   object \n",
      " 22  RoofMatl       1459 non-null   object \n",
      " 23  Exterior1st    1458 non-null   object \n",
      " 24  Exterior2nd    1458 non-null   object \n",
      " 25  MasVnrType     565 non-null    object \n",
      " 26  MasVnrArea     1444 non-null   float64\n",
      " 27  ExterQual      1459 non-null   object \n",
      " 28  ExterCond      1459 non-null   object \n",
      " 29  Foundation     1459 non-null   object \n",
      " 30  BsmtQual       1415 non-null   object \n",
      " 31  BsmtCond       1414 non-null   object \n",
      " 32  BsmtExposure   1415 non-null   object \n",
      " 33  BsmtFinType1   1417 non-null   object \n",
      " 34  BsmtFinSF1     1458 non-null   float64\n",
      " 35  BsmtFinType2   1417 non-null   object \n",
      " 36  BsmtFinSF2     1458 non-null   float64\n",
      " 37  BsmtUnfSF      1458 non-null   float64\n",
      " 38  TotalBsmtSF    1458 non-null   float64\n",
      " 39  Heating        1459 non-null   object \n",
      " 40  HeatingQC      1459 non-null   object \n",
      " 41  CentralAir     1459 non-null   object \n",
      " 42  Electrical     1459 non-null   object \n",
      " 43  1stFlrSF       1459 non-null   int64  \n",
      " 44  2ndFlrSF       1459 non-null   int64  \n",
      " 45  LowQualFinSF   1459 non-null   int64  \n",
      " 46  GrLivArea      1459 non-null   int64  \n",
      " 47  BsmtFullBath   1457 non-null   float64\n",
      " 48  BsmtHalfBath   1457 non-null   float64\n",
      " 49  FullBath       1459 non-null   int64  \n",
      " 50  HalfBath       1459 non-null   int64  \n",
      " 51  BedroomAbvGr   1459 non-null   int64  \n",
      " 52  KitchenAbvGr   1459 non-null   int64  \n",
      " 53  KitchenQual    1458 non-null   object \n",
      " 54  TotRmsAbvGrd   1459 non-null   int64  \n",
      " 55  Functional     1457 non-null   object \n",
      " 56  Fireplaces     1459 non-null   int64  \n",
      " 57  FireplaceQu    729 non-null    object \n",
      " 58  GarageType     1383 non-null   object \n",
      " 59  GarageYrBlt    1381 non-null   float64\n",
      " 60  GarageFinish   1381 non-null   object \n",
      " 61  GarageCars     1458 non-null   float64\n",
      " 62  GarageArea     1458 non-null   float64\n",
      " 63  GarageQual     1381 non-null   object \n",
      " 64  GarageCond     1381 non-null   object \n",
      " 65  PavedDrive     1459 non-null   object \n",
      " 66  WoodDeckSF     1459 non-null   int64  \n",
      " 67  OpenPorchSF    1459 non-null   int64  \n",
      " 68  EnclosedPorch  1459 non-null   int64  \n",
      " 69  3SsnPorch      1459 non-null   int64  \n",
      " 70  ScreenPorch    1459 non-null   int64  \n",
      " 71  PoolArea       1459 non-null   int64  \n",
      " 72  PoolQC         3 non-null      object \n",
      " 73  Fence          290 non-null    object \n",
      " 74  MiscFeature    51 non-null     object \n",
      " 75  MiscVal        1459 non-null   int64  \n",
      " 76  MoSold         1459 non-null   int64  \n",
      " 77  YrSold         1459 non-null   int64  \n",
      " 78  SaleType       1458 non-null   object \n",
      " 79  SaleCondition  1459 non-null   object \n",
      "dtypes: float64(11), int64(26), object(43)\n",
      "memory usage: 912.0+ KB\n"
     ]
    }
   ],
   "source": [
    "#Here we will do the same thing we've done above to check for null values and understand our columns\n",
    "test.head(3)\n",
    "test.shape #1459 rows and 80 columns (no 'Sales price' column, which is what we want to predict)\n",
    "test.info()"
   ]
  },
  {
   "cell_type": "code",
   "execution_count": 924,
   "metadata": {},
   "outputs": [],
   "source": [
    "#Removing all columns that have more than 10% of null values\n",
    "(test.isnull().sum()/test.shape[0]).sort_values(ascending=False).head(20)\n",
    "remove_test = test.columns[(test.isnull().sum()/test.shape[0]) > 0.1]\n",
    "test = test.drop(remove_test,axis=1)"
   ]
  },
  {
   "cell_type": "code",
   "execution_count": 925,
   "metadata": {},
   "outputs": [],
   "source": [
    "numeric_tst = test.columns[test.dtypes != 'object']\n",
    "categoric_tst = test.columns[test.dtypes == 'object']"
   ]
  },
  {
   "cell_type": "code",
   "execution_count": 926,
   "metadata": {},
   "outputs": [
    {
     "data": {
      "text/plain": [
       "'\\nGarageYrBlt     78\\nMasVnrArea      15\\nBsmtHalfBath     2\\nBsmtFullBath     2\\nBsmtUnfSF        1\\nGarageCars       1\\nGarageArea       1\\nBsmtFinSF1       1\\nBsmtFinSF2       1\\nTotalBsmtSF      1\\n'"
      ]
     },
     "execution_count": 926,
     "metadata": {},
     "output_type": "execute_result"
    }
   ],
   "source": [
    "#Treating numeric values\n",
    "test_numeric = test.loc[:,numeric_tst]\n",
    "test_numeric.head(5)\n",
    "test_numeric.isnull().sum().sort_values(ascending=False).head(10) #10 columns with null values\n",
    "'''\n",
    "GarageYrBlt     78\n",
    "MasVnrArea      15\n",
    "BsmtHalfBath     2\n",
    "BsmtFullBath     2\n",
    "BsmtUnfSF        1\n",
    "GarageCars       1\n",
    "GarageArea       1\n",
    "BsmtFinSF1       1\n",
    "BsmtFinSF2       1\n",
    "TotalBsmtSF      1\n",
    "'''"
   ]
  },
  {
   "cell_type": "code",
   "execution_count": 927,
   "metadata": {},
   "outputs": [
    {
     "name": "stderr",
     "output_type": "stream",
     "text": [
      "C:\\Users\\Gabi Bello\\AppData\\Local\\Temp\\ipykernel_17984\\4007192735.py:14: FutureWarning: A value is trying to be set on a copy of a DataFrame or Series through chained assignment using an inplace method.\n",
      "The behavior will change in pandas 3.0. This inplace method will never work because the intermediate object on which we are setting values always behaves as a copy.\n",
      "\n",
      "For example, when doing 'df[col].method(value, inplace=True)', try using 'df.method({col: value}, inplace=True)' or df[col] = df[col].method(value) instead, to perform the operation inplace on the original object.\n",
      "\n",
      "\n",
      "  test_numeric['GarageYrBlt'].fillna(pd.Series(np.random.choice(garage_yrblt.tolist(),size=len(test_numeric.index))), inplace=True)\n",
      "C:\\Users\\Gabi Bello\\AppData\\Local\\Temp\\ipykernel_17984\\4007192735.py:16: FutureWarning: A value is trying to be set on a copy of a DataFrame or Series through chained assignment using an inplace method.\n",
      "The behavior will change in pandas 3.0. This inplace method will never work because the intermediate object on which we are setting values always behaves as a copy.\n",
      "\n",
      "For example, when doing 'df[col].method(value, inplace=True)', try using 'df.method({col: value}, inplace=True)' or df[col] = df[col].method(value) instead, to perform the operation inplace on the original object.\n",
      "\n",
      "\n",
      "  test_numeric['MasVnrArea'].fillna('0.0',inplace=True)\n",
      "C:\\Users\\Gabi Bello\\AppData\\Local\\Temp\\ipykernel_17984\\4007192735.py:16: FutureWarning: Setting an item of incompatible dtype is deprecated and will raise an error in a future version of pandas. Value '0.0' has dtype incompatible with float64, please explicitly cast to a compatible dtype first.\n",
      "  test_numeric['MasVnrArea'].fillna('0.0',inplace=True)\n",
      "C:\\Users\\Gabi Bello\\AppData\\Local\\Temp\\ipykernel_17984\\4007192735.py:18: FutureWarning: A value is trying to be set on a copy of a DataFrame or Series through chained assignment using an inplace method.\n",
      "The behavior will change in pandas 3.0. This inplace method will never work because the intermediate object on which we are setting values always behaves as a copy.\n",
      "\n",
      "For example, when doing 'df[col].method(value, inplace=True)', try using 'df.method({col: value}, inplace=True)' or df[col] = df[col].method(value) instead, to perform the operation inplace on the original object.\n",
      "\n",
      "\n",
      "  test_numeric['BsmtHalfBath'].fillna('0.0',inplace=True)\n",
      "C:\\Users\\Gabi Bello\\AppData\\Local\\Temp\\ipykernel_17984\\4007192735.py:18: FutureWarning: Setting an item of incompatible dtype is deprecated and will raise an error in a future version of pandas. Value '0.0' has dtype incompatible with float64, please explicitly cast to a compatible dtype first.\n",
      "  test_numeric['BsmtHalfBath'].fillna('0.0',inplace=True)\n",
      "C:\\Users\\Gabi Bello\\AppData\\Local\\Temp\\ipykernel_17984\\4007192735.py:20: FutureWarning: A value is trying to be set on a copy of a DataFrame or Series through chained assignment using an inplace method.\n",
      "The behavior will change in pandas 3.0. This inplace method will never work because the intermediate object on which we are setting values always behaves as a copy.\n",
      "\n",
      "For example, when doing 'df[col].method(value, inplace=True)', try using 'df.method({col: value}, inplace=True)' or df[col] = df[col].method(value) instead, to perform the operation inplace on the original object.\n",
      "\n",
      "\n",
      "  test_numeric['BsmtFullBath'].fillna('0.0',inplace=True)\n",
      "C:\\Users\\Gabi Bello\\AppData\\Local\\Temp\\ipykernel_17984\\4007192735.py:20: FutureWarning: Setting an item of incompatible dtype is deprecated and will raise an error in a future version of pandas. Value '0.0' has dtype incompatible with float64, please explicitly cast to a compatible dtype first.\n",
      "  test_numeric['BsmtFullBath'].fillna('0.0',inplace=True)\n",
      "C:\\Users\\Gabi Bello\\AppData\\Local\\Temp\\ipykernel_17984\\4007192735.py:22: FutureWarning: A value is trying to be set on a copy of a DataFrame or Series through chained assignment using an inplace method.\n",
      "The behavior will change in pandas 3.0. This inplace method will never work because the intermediate object on which we are setting values always behaves as a copy.\n",
      "\n",
      "For example, when doing 'df[col].method(value, inplace=True)', try using 'df.method({col: value}, inplace=True)' or df[col] = df[col].method(value) instead, to perform the operation inplace on the original object.\n",
      "\n",
      "\n",
      "  test_numeric['BsmtUnfSF'].fillna('0.0',inplace=True)\n",
      "C:\\Users\\Gabi Bello\\AppData\\Local\\Temp\\ipykernel_17984\\4007192735.py:22: FutureWarning: Setting an item of incompatible dtype is deprecated and will raise an error in a future version of pandas. Value '0.0' has dtype incompatible with float64, please explicitly cast to a compatible dtype first.\n",
      "  test_numeric['BsmtUnfSF'].fillna('0.0',inplace=True)\n",
      "C:\\Users\\Gabi Bello\\AppData\\Local\\Temp\\ipykernel_17984\\4007192735.py:24: FutureWarning: A value is trying to be set on a copy of a DataFrame or Series through chained assignment using an inplace method.\n",
      "The behavior will change in pandas 3.0. This inplace method will never work because the intermediate object on which we are setting values always behaves as a copy.\n",
      "\n",
      "For example, when doing 'df[col].method(value, inplace=True)', try using 'df.method({col: value}, inplace=True)' or df[col] = df[col].method(value) instead, to perform the operation inplace on the original object.\n",
      "\n",
      "\n",
      "  test_numeric['GarageCars'].fillna('2.0',inplace=True)\n",
      "C:\\Users\\Gabi Bello\\AppData\\Local\\Temp\\ipykernel_17984\\4007192735.py:24: FutureWarning: Setting an item of incompatible dtype is deprecated and will raise an error in a future version of pandas. Value '2.0' has dtype incompatible with float64, please explicitly cast to a compatible dtype first.\n",
      "  test_numeric['GarageCars'].fillna('2.0',inplace=True)\n",
      "C:\\Users\\Gabi Bello\\AppData\\Local\\Temp\\ipykernel_17984\\4007192735.py:26: FutureWarning: A value is trying to be set on a copy of a DataFrame or Series through chained assignment using an inplace method.\n",
      "The behavior will change in pandas 3.0. This inplace method will never work because the intermediate object on which we are setting values always behaves as a copy.\n",
      "\n",
      "For example, when doing 'df[col].method(value, inplace=True)', try using 'df.method({col: value}, inplace=True)' or df[col] = df[col].method(value) instead, to perform the operation inplace on the original object.\n",
      "\n",
      "\n",
      "  test_numeric['GarageArea'].fillna(pd.Series(np.random.choice(garagearea.tolist(),size=len(test_numeric.index))), inplace=True)\n",
      "C:\\Users\\Gabi Bello\\AppData\\Local\\Temp\\ipykernel_17984\\4007192735.py:28: FutureWarning: A value is trying to be set on a copy of a DataFrame or Series through chained assignment using an inplace method.\n",
      "The behavior will change in pandas 3.0. This inplace method will never work because the intermediate object on which we are setting values always behaves as a copy.\n",
      "\n",
      "For example, when doing 'df[col].method(value, inplace=True)', try using 'df.method({col: value}, inplace=True)' or df[col] = df[col].method(value) instead, to perform the operation inplace on the original object.\n",
      "\n",
      "\n",
      "  test_numeric['BsmtFinSF1'].fillna('0.0',inplace=True)\n",
      "C:\\Users\\Gabi Bello\\AppData\\Local\\Temp\\ipykernel_17984\\4007192735.py:28: FutureWarning: Setting an item of incompatible dtype is deprecated and will raise an error in a future version of pandas. Value '0.0' has dtype incompatible with float64, please explicitly cast to a compatible dtype first.\n",
      "  test_numeric['BsmtFinSF1'].fillna('0.0',inplace=True)\n",
      "C:\\Users\\Gabi Bello\\AppData\\Local\\Temp\\ipykernel_17984\\4007192735.py:29: FutureWarning: A value is trying to be set on a copy of a DataFrame or Series through chained assignment using an inplace method.\n",
      "The behavior will change in pandas 3.0. This inplace method will never work because the intermediate object on which we are setting values always behaves as a copy.\n",
      "\n",
      "For example, when doing 'df[col].method(value, inplace=True)', try using 'df.method({col: value}, inplace=True)' or df[col] = df[col].method(value) instead, to perform the operation inplace on the original object.\n",
      "\n",
      "\n",
      "  test_numeric['BsmtFinSF2'].fillna('0.0',inplace=True)\n",
      "C:\\Users\\Gabi Bello\\AppData\\Local\\Temp\\ipykernel_17984\\4007192735.py:29: FutureWarning: Setting an item of incompatible dtype is deprecated and will raise an error in a future version of pandas. Value '0.0' has dtype incompatible with float64, please explicitly cast to a compatible dtype first.\n",
      "  test_numeric['BsmtFinSF2'].fillna('0.0',inplace=True)\n",
      "C:\\Users\\Gabi Bello\\AppData\\Local\\Temp\\ipykernel_17984\\4007192735.py:31: FutureWarning: A value is trying to be set on a copy of a DataFrame or Series through chained assignment using an inplace method.\n",
      "The behavior will change in pandas 3.0. This inplace method will never work because the intermediate object on which we are setting values always behaves as a copy.\n",
      "\n",
      "For example, when doing 'df[col].method(value, inplace=True)', try using 'df.method({col: value}, inplace=True)' or df[col] = df[col].method(value) instead, to perform the operation inplace on the original object.\n",
      "\n",
      "\n",
      "  test_numeric['TotalBsmtSF'].fillna(pd.Series(np.random.choice(totalbsmtsf.tolist(),size=len(test_numeric.index))),inplace=True)\n"
     ]
    }
   ],
   "source": [
    "#Grouping columns\n",
    "garage_yrblt = test_numeric.groupby(test_numeric['GarageYrBlt']).size().sort_values(ascending=False).head(5)\n",
    "masvnrarea = test_numeric.groupby(test_numeric['MasVnrArea']).size().sort_values(ascending=False).head(5)\n",
    "bsmthalfbath = test_numeric.groupby(test_numeric['BsmtHalfBath']).size().sort_values(ascending=False).head(5)\n",
    "bsmtfullbath = test_numeric.groupby(test_numeric['BsmtFullBath']).size().sort_values(ascending=False).head(5)\n",
    "bsmtunfsf = test_numeric.groupby(test_numeric['BsmtUnfSF']).size().sort_values(ascending=False).head(5)\n",
    "garagecars = test_numeric.groupby(test_numeric['GarageCars']).size().sort_values(ascending=False).head(5)\n",
    "garagearea = test_numeric.groupby(test_numeric['GarageArea']).size().sort_values(ascending=False).head(5)\n",
    "bsmtfinsf1 = test_numeric.groupby(test_numeric['BsmtFinSF1']).size().sort_values(ascending=False).head(5)\n",
    "bsmtfinsf2 = test_numeric.groupby(test_numeric['BsmtFinSF2']).size().sort_values(ascending=False).head(5)\n",
    "totalbsmtsf = test_numeric.groupby(test_numeric['TotalBsmtSF']).size().sort_values(ascending=False).head(2)\n",
    "\n",
    "#Garage_yrblt - Random fill with top 5 values\n",
    "test_numeric['GarageYrBlt'].fillna(pd.Series(np.random.choice(garage_yrblt.tolist(),size=len(test_numeric.index))), inplace=True)\n",
    "#MasVnrArea - Fill with 0.0\n",
    "test_numeric['MasVnrArea'].fillna('0.0',inplace=True)\n",
    "#BmstHalfBath - Fill with 0.0\n",
    "test_numeric['BsmtHalfBath'].fillna('0.0',inplace=True)\n",
    "#Bsmtfullbath - fill with 0.0\n",
    "test_numeric['BsmtFullBath'].fillna('0.0',inplace=True)\n",
    "#Bsmtunfsf - fill with 0.0\n",
    "test_numeric['BsmtUnfSF'].fillna('0.0',inplace=True)\n",
    "#Garagecars - fill with '2.0'\n",
    "test_numeric['GarageCars'].fillna('2.0',inplace=True)\n",
    "#GarageArea - randomic fill among top 5 values\n",
    "test_numeric['GarageArea'].fillna(pd.Series(np.random.choice(garagearea.tolist(),size=len(test_numeric.index))), inplace=True)\n",
    "#BsmtfinsF1 (Fill with '0.0') and BsmtfinsF2 (Fill with '0.0')\n",
    "test_numeric['BsmtFinSF1'].fillna('0.0',inplace=True)\n",
    "test_numeric['BsmtFinSF2'].fillna('0.0',inplace=True)\n",
    "#TotalBsmtSF - Randomic fill among top 2\n",
    "test_numeric['TotalBsmtSF'].fillna(pd.Series(np.random.choice(totalbsmtsf.tolist(),size=len(test_numeric.index))),inplace=True)"
   ]
  },
  {
   "cell_type": "code",
   "execution_count": 928,
   "metadata": {},
   "outputs": [
    {
     "data": {
      "text/plain": [
       "'\\nGarageCond      78\\nGarageQual      78\\nGarageFinish    78\\nGarageType      76\\nBsmtCond        45\\nBsmtExposure    44\\nBsmtQual        44\\nBsmtFinType1    42\\nBsmtFinType2    42\\nMSZoning         4\\nFunctional       2\\nUtilities        2\\nExterior1st      1\\nExterior2nd      1\\nSaleType         1\\nKitchenQual      1\\n'"
      ]
     },
     "execution_count": 928,
     "metadata": {},
     "output_type": "execute_result"
    }
   ],
   "source": [
    "test_categoric = test.loc[:,categoric_tst]\n",
    "test_categoric.head(5)\n",
    "test_categoric.isnull().sum().sort_values(ascending=False).head(16) #16 columns with null values\n",
    "'''\n",
    "GarageCond      78\n",
    "GarageQual      78\n",
    "GarageFinish    78\n",
    "GarageType      76\n",
    "BsmtCond        45\n",
    "BsmtExposure    44\n",
    "BsmtQual        44\n",
    "BsmtFinType1    42\n",
    "BsmtFinType2    42\n",
    "MSZoning         4\n",
    "Functional       2\n",
    "Utilities        2\n",
    "Exterior1st      1\n",
    "Exterior2nd      1\n",
    "SaleType         1\n",
    "KitchenQual      1\n",
    "'''"
   ]
  },
  {
   "cell_type": "code",
   "execution_count": 929,
   "metadata": {},
   "outputs": [
    {
     "name": "stderr",
     "output_type": "stream",
     "text": [
      "C:\\Users\\Gabi Bello\\AppData\\Local\\Temp\\ipykernel_17984\\1327843735.py:3: FutureWarning: A value is trying to be set on a copy of a DataFrame or Series through chained assignment using an inplace method.\n",
      "The behavior will change in pandas 3.0. This inplace method will never work because the intermediate object on which we are setting values always behaves as a copy.\n",
      "\n",
      "For example, when doing 'df[col].method(value, inplace=True)', try using 'df.method({col: value}, inplace=True)' or df[col] = df[col].method(value) instead, to perform the operation inplace on the original object.\n",
      "\n",
      "\n",
      "  test_categoric['GarageCond'].fillna('TA',inplace=True)\n",
      "C:\\Users\\Gabi Bello\\AppData\\Local\\Temp\\ipykernel_17984\\1327843735.py:6: FutureWarning: A value is trying to be set on a copy of a DataFrame or Series through chained assignment using an inplace method.\n",
      "The behavior will change in pandas 3.0. This inplace method will never work because the intermediate object on which we are setting values always behaves as a copy.\n",
      "\n",
      "For example, when doing 'df[col].method(value, inplace=True)', try using 'df.method({col: value}, inplace=True)' or df[col] = df[col].method(value) instead, to perform the operation inplace on the original object.\n",
      "\n",
      "\n",
      "  test_categoric['GarageQual'].fillna('TA',inplace=True)\n",
      "C:\\Users\\Gabi Bello\\AppData\\Local\\Temp\\ipykernel_17984\\1327843735.py:9: FutureWarning: A value is trying to be set on a copy of a DataFrame or Series through chained assignment using an inplace method.\n",
      "The behavior will change in pandas 3.0. This inplace method will never work because the intermediate object on which we are setting values always behaves as a copy.\n",
      "\n",
      "For example, when doing 'df[col].method(value, inplace=True)', try using 'df.method({col: value}, inplace=True)' or df[col] = df[col].method(value) instead, to perform the operation inplace on the original object.\n",
      "\n",
      "\n",
      "  test_categoric['GarageFinish'].fillna('Unf',inplace=True)\n",
      "C:\\Users\\Gabi Bello\\AppData\\Local\\Temp\\ipykernel_17984\\1327843735.py:12: FutureWarning: A value is trying to be set on a copy of a DataFrame or Series through chained assignment using an inplace method.\n",
      "The behavior will change in pandas 3.0. This inplace method will never work because the intermediate object on which we are setting values always behaves as a copy.\n",
      "\n",
      "For example, when doing 'df[col].method(value, inplace=True)', try using 'df.method({col: value}, inplace=True)' or df[col] = df[col].method(value) instead, to perform the operation inplace on the original object.\n",
      "\n",
      "\n",
      "  test_categoric['GarageType'].fillna('Attchd',inplace=True)\n",
      "C:\\Users\\Gabi Bello\\AppData\\Local\\Temp\\ipykernel_17984\\1327843735.py:15: FutureWarning: A value is trying to be set on a copy of a DataFrame or Series through chained assignment using an inplace method.\n",
      "The behavior will change in pandas 3.0. This inplace method will never work because the intermediate object on which we are setting values always behaves as a copy.\n",
      "\n",
      "For example, when doing 'df[col].method(value, inplace=True)', try using 'df.method({col: value}, inplace=True)' or df[col] = df[col].method(value) instead, to perform the operation inplace on the original object.\n",
      "\n",
      "\n",
      "  test_categoric['BsmtCond'].fillna('TA',inplace=True)\n",
      "C:\\Users\\Gabi Bello\\AppData\\Local\\Temp\\ipykernel_17984\\1327843735.py:18: FutureWarning: A value is trying to be set on a copy of a DataFrame or Series through chained assignment using an inplace method.\n",
      "The behavior will change in pandas 3.0. This inplace method will never work because the intermediate object on which we are setting values always behaves as a copy.\n",
      "\n",
      "For example, when doing 'df[col].method(value, inplace=True)', try using 'df.method({col: value}, inplace=True)' or df[col] = df[col].method(value) instead, to perform the operation inplace on the original object.\n",
      "\n",
      "\n",
      "  test_categoric['BsmtExposure'].fillna('No',inplace=True)\n",
      "C:\\Users\\Gabi Bello\\AppData\\Local\\Temp\\ipykernel_17984\\1327843735.py:21: FutureWarning: A value is trying to be set on a copy of a DataFrame or Series through chained assignment using an inplace method.\n",
      "The behavior will change in pandas 3.0. This inplace method will never work because the intermediate object on which we are setting values always behaves as a copy.\n",
      "\n",
      "For example, when doing 'df[col].method(value, inplace=True)', try using 'df.method({col: value}, inplace=True)' or df[col] = df[col].method(value) instead, to perform the operation inplace on the original object.\n",
      "\n",
      "\n",
      "  test_categoric['BsmtQual'].fillna(pd.Series(np.random.choice((tst_bsmtqual.tolist()),size=len(test_categoric.index))),inplace=True)\n",
      "C:\\Users\\Gabi Bello\\AppData\\Local\\Temp\\ipykernel_17984\\1327843735.py:24: FutureWarning: A value is trying to be set on a copy of a DataFrame or Series through chained assignment using an inplace method.\n",
      "The behavior will change in pandas 3.0. This inplace method will never work because the intermediate object on which we are setting values always behaves as a copy.\n",
      "\n",
      "For example, when doing 'df[col].method(value, inplace=True)', try using 'df.method({col: value}, inplace=True)' or df[col] = df[col].method(value) instead, to perform the operation inplace on the original object.\n",
      "\n",
      "\n",
      "  test_categoric['BsmtFinType1'].fillna(pd.Series(np.random.choice((tst_bsmtfintype1.tolist()),size=len(test_categoric.index))),inplace=True)\n",
      "C:\\Users\\Gabi Bello\\AppData\\Local\\Temp\\ipykernel_17984\\1327843735.py:27: FutureWarning: A value is trying to be set on a copy of a DataFrame or Series through chained assignment using an inplace method.\n",
      "The behavior will change in pandas 3.0. This inplace method will never work because the intermediate object on which we are setting values always behaves as a copy.\n",
      "\n",
      "For example, when doing 'df[col].method(value, inplace=True)', try using 'df.method({col: value}, inplace=True)' or df[col] = df[col].method(value) instead, to perform the operation inplace on the original object.\n",
      "\n",
      "\n",
      "  test_categoric['BsmtFinType2'].fillna('Unf',inplace=True)\n",
      "C:\\Users\\Gabi Bello\\AppData\\Local\\Temp\\ipykernel_17984\\1327843735.py:30: FutureWarning: A value is trying to be set on a copy of a DataFrame or Series through chained assignment using an inplace method.\n",
      "The behavior will change in pandas 3.0. This inplace method will never work because the intermediate object on which we are setting values always behaves as a copy.\n",
      "\n",
      "For example, when doing 'df[col].method(value, inplace=True)', try using 'df.method({col: value}, inplace=True)' or df[col] = df[col].method(value) instead, to perform the operation inplace on the original object.\n",
      "\n",
      "\n",
      "  test_categoric['MSZoning'].fillna('RL',inplace=True)\n",
      "C:\\Users\\Gabi Bello\\AppData\\Local\\Temp\\ipykernel_17984\\1327843735.py:33: FutureWarning: A value is trying to be set on a copy of a DataFrame or Series through chained assignment using an inplace method.\n",
      "The behavior will change in pandas 3.0. This inplace method will never work because the intermediate object on which we are setting values always behaves as a copy.\n",
      "\n",
      "For example, when doing 'df[col].method(value, inplace=True)', try using 'df.method({col: value}, inplace=True)' or df[col] = df[col].method(value) instead, to perform the operation inplace on the original object.\n",
      "\n",
      "\n",
      "  test_categoric['Functional'].fillna('Typ',inplace=True)\n",
      "C:\\Users\\Gabi Bello\\AppData\\Local\\Temp\\ipykernel_17984\\1327843735.py:36: FutureWarning: A value is trying to be set on a copy of a DataFrame or Series through chained assignment using an inplace method.\n",
      "The behavior will change in pandas 3.0. This inplace method will never work because the intermediate object on which we are setting values always behaves as a copy.\n",
      "\n",
      "For example, when doing 'df[col].method(value, inplace=True)', try using 'df.method({col: value}, inplace=True)' or df[col] = df[col].method(value) instead, to perform the operation inplace on the original object.\n",
      "\n",
      "\n",
      "  test_categoric['Utilities'].fillna('AllPub',inplace=True)\n",
      "C:\\Users\\Gabi Bello\\AppData\\Local\\Temp\\ipykernel_17984\\1327843735.py:39: FutureWarning: A value is trying to be set on a copy of a DataFrame or Series through chained assignment using an inplace method.\n",
      "The behavior will change in pandas 3.0. This inplace method will never work because the intermediate object on which we are setting values always behaves as a copy.\n",
      "\n",
      "For example, when doing 'df[col].method(value, inplace=True)', try using 'df.method({col: value}, inplace=True)' or df[col] = df[col].method(value) instead, to perform the operation inplace on the original object.\n",
      "\n",
      "\n",
      "  test_categoric['Exterior1st'].fillna('VinylSd',inplace=True)\n",
      "C:\\Users\\Gabi Bello\\AppData\\Local\\Temp\\ipykernel_17984\\1327843735.py:42: FutureWarning: A value is trying to be set on a copy of a DataFrame or Series through chained assignment using an inplace method.\n",
      "The behavior will change in pandas 3.0. This inplace method will never work because the intermediate object on which we are setting values always behaves as a copy.\n",
      "\n",
      "For example, when doing 'df[col].method(value, inplace=True)', try using 'df.method({col: value}, inplace=True)' or df[col] = df[col].method(value) instead, to perform the operation inplace on the original object.\n",
      "\n",
      "\n",
      "  test_categoric['Exterior2nd'].fillna('VinylSd',inplace=True)\n",
      "C:\\Users\\Gabi Bello\\AppData\\Local\\Temp\\ipykernel_17984\\1327843735.py:45: FutureWarning: A value is trying to be set on a copy of a DataFrame or Series through chained assignment using an inplace method.\n",
      "The behavior will change in pandas 3.0. This inplace method will never work because the intermediate object on which we are setting values always behaves as a copy.\n",
      "\n",
      "For example, when doing 'df[col].method(value, inplace=True)', try using 'df.method({col: value}, inplace=True)' or df[col] = df[col].method(value) instead, to perform the operation inplace on the original object.\n",
      "\n",
      "\n",
      "  test_categoric['SaleType'].fillna('WD',inplace=True)\n",
      "C:\\Users\\Gabi Bello\\AppData\\Local\\Temp\\ipykernel_17984\\1327843735.py:48: FutureWarning: A value is trying to be set on a copy of a DataFrame or Series through chained assignment using an inplace method.\n",
      "The behavior will change in pandas 3.0. This inplace method will never work because the intermediate object on which we are setting values always behaves as a copy.\n",
      "\n",
      "For example, when doing 'df[col].method(value, inplace=True)', try using 'df.method({col: value}, inplace=True)' or df[col] = df[col].method(value) instead, to perform the operation inplace on the original object.\n",
      "\n",
      "\n",
      "  test_categoric['KitchenQual'].fillna('TA',inplace=True)\n"
     ]
    }
   ],
   "source": [
    "#GarageCond      78\n",
    "tst_garagecond = test_categoric.groupby(test_categoric['GarageCond']).size().sort_values(ascending=False).head(5) \n",
    "test_categoric['GarageCond'].fillna('TA',inplace=True)\n",
    "#GarageQual      78\n",
    "tst_garagequal = test_categoric.groupby(test_categoric['GarageQual']).size().sort_values(ascending=False).head(5)\n",
    "test_categoric['GarageQual'].fillna('TA',inplace=True)\n",
    "#GarageFinish    78\n",
    "tst_garagefinish = test_categoric.groupby(test_categoric['GarageFinish']).size().sort_values(ascending=False).head(5)\n",
    "test_categoric['GarageFinish'].fillna('Unf',inplace=True)\n",
    "#GarageType      76\n",
    "tst_garagetype = test_categoric.groupby(test_categoric['GarageType']).size().sort_values(ascending=False).head(5)\n",
    "test_categoric['GarageType'].fillna('Attchd',inplace=True)\n",
    "#BsmtCond        45\n",
    "tst_bsmtcond = test_categoric.groupby(test_categoric['BsmtCond']).size().sort_values(ascending=False).head(5)\n",
    "test_categoric['BsmtCond'].fillna('TA',inplace=True)\n",
    "#BsmtExposure    44\n",
    "tst_bsmtexposure = test_categoric.groupby(test_categoric['BsmtExposure']).size().sort_values(ascending=False).head(5)\n",
    "test_categoric['BsmtExposure'].fillna('No',inplace=True)\n",
    "#BsmtQual        44\n",
    "tst_bsmtqual = test_categoric.groupby(test_categoric['BsmtQual']).size().sort_values(ascending=False).head(2)\n",
    "test_categoric['BsmtQual'].fillna(pd.Series(np.random.choice((tst_bsmtqual.tolist()),size=len(test_categoric.index))),inplace=True)\n",
    "#BsmtFinType1    42\n",
    "tst_bsmtfintype1 = test_categoric.groupby(test_categoric['BsmtFinType1']).size().sort_values(ascending=False).head(2)\n",
    "test_categoric['BsmtFinType1'].fillna(pd.Series(np.random.choice((tst_bsmtfintype1.tolist()),size=len(test_categoric.index))),inplace=True)\n",
    "#BsmtFinType2    42\n",
    "tst_bsmtfintype2 = test_categoric.groupby(test_categoric['BsmtFinType2']).size().sort_values(ascending=False).head(5)\n",
    "test_categoric['BsmtFinType2'].fillna('Unf',inplace=True)\n",
    "#MSZoning         4\n",
    "tst_mszoning = test_categoric.groupby(test_categoric['MSZoning']).size().sort_values(ascending=False).head(5)\n",
    "test_categoric['MSZoning'].fillna('RL',inplace=True)\n",
    "#Functional       2\n",
    "tst_functional = test_categoric.groupby(test_categoric['Functional']).size().sort_values(ascending=False).head(5)\n",
    "test_categoric['Functional'].fillna('Typ',inplace=True)\n",
    "#Utilities        2\n",
    "tst_utilities = test_categoric.groupby(test_categoric['Utilities']).size().sort_values(ascending=False).head(5) #Only AllPub\n",
    "test_categoric['Utilities'].fillna('AllPub',inplace=True)\n",
    "#Exterior1st      1\n",
    "tst_exterior1st = test_categoric.groupby(test_categoric['Exterior1st']).size().sort_values(ascending=False).head(5)\n",
    "test_categoric['Exterior1st'].fillna('VinylSd',inplace=True)\n",
    "#Exterior2nd      1\n",
    "tst_exterior2nd = test_categoric.groupby(test_categoric['Exterior2nd']).size().sort_values(ascending=False).head(5)\n",
    "test_categoric['Exterior2nd'].fillna('VinylSd',inplace=True)\n",
    "#SaleType         1\n",
    "tst_saletype = test_categoric.groupby(test_categoric['SaleType']).size().sort_values(ascending=False).head(5)\n",
    "test_categoric['SaleType'].fillna('WD',inplace=True)\n",
    "#KitchenQual      1\n",
    "tst_kitchenqual = test_categoric.groupby(test_categoric['KitchenQual']).size().sort_values(ascending=False).head(5)\n",
    "test_categoric['KitchenQual'].fillna('TA',inplace=True)"
   ]
  },
  {
   "cell_type": "code",
   "execution_count": 930,
   "metadata": {},
   "outputs": [],
   "source": [
    "#Getting our final test dataset with no null values\n",
    "test_dataset = pd.concat([test_numeric,test_categoric],axis=1)"
   ]
  },
  {
   "cell_type": "code",
   "execution_count": 931,
   "metadata": {},
   "outputs": [],
   "source": [
    "#Comparing train and test datasets\n",
    "columns_in_train_not_in_test = (set(train_dataset.columns)) - (set(test_dataset.columns))\n",
    "columns_in_test_not_in_train = (set(test_dataset.columns)) - (set(train_dataset.columns))"
   ]
  },
  {
   "cell_type": "code",
   "execution_count": 932,
   "metadata": {},
   "outputs": [],
   "source": [
    "#-----------------------------------------------------------------------------------------------------------------------------------------------------\n",
    "#ORGANIZING DATASETS + CLEANING SOME COLUMNS\n",
    "#-----------------------------------------------------------------------------------------------------------------------------------------------------"
   ]
  },
  {
   "cell_type": "code",
   "execution_count": 933,
   "metadata": {},
   "outputs": [],
   "source": [
    "#First we will clean our database by removing some columns that may not add important info to our study. \n",
    "\n",
    "#Some columns were chosen to be deleted initially from our database\n",
    "columns_to_remove = ['LandContour','LotConfig','YearRemodAdd','RoofStyle','Exterior2nd',\n",
    "                     'MasVnrArea','ExterCond','BsmtQual','BsmtExposure','BsmtFinSF1','BsmtFinType1','BsmtFinType2','BsmtFinSF2','BsmtUnfSF',\n",
    "                     'HeatingQC','Electrical','Functional','GarageYrBlt','GarageFinish','GarageCars','GarageCond','3SsnPorch',\n",
    "                     'ScreenPorch','MoSold','YrSold','LowQualFinSF','BedroomAbvGr','KitchenAbvGr','WoodDeckSF','OpenPorchSF', 'EnclosedPorch',\n",
    "                     'MiscVal','LandSlope','Condition1','Condition2','BldgType','Foundation','KitchenQual','GarageQual','SaleCondition']\n",
    "\n",
    "train_final1 = train_dataset.drop(columns_to_remove,axis=1)\n",
    "test_final1 = test_dataset.drop(columns_to_remove,axis=1)"
   ]
  },
  {
   "cell_type": "code",
   "execution_count": 934,
   "metadata": {},
   "outputs": [],
   "source": [
    "#LotArea\n",
    "#Predicting clusters with train dataset\n",
    "lotarea_train = train_final1['LotArea'].values.reshape(-1,1)\n",
    "sse=[]\n",
    "for i in range(1,11):\n",
    "    kmeans = KMeans(n_clusters=i)\n",
    "    kmeans.fit(lotarea_train)\n",
    "    sse.append(kmeans.inertia_)\n",
    "#Ploting graph to understand the best clusters number\n",
    "\"\"\" plt.plot(range(1,11),sse,marker='x')\n",
    "plt.xlabel('Cluster numbers')\n",
    "plt.ylabel('Inertia sum')\n",
    "plt.title('Kmeans - Lot Area')\n",
    "plt.show() \"\"\"\n",
    "#Fitting our predict for train\n",
    "kmeans = KMeans(n_clusters=3)\n",
    "kmeans.fit(lotarea_train)\n",
    "clusters = kmeans.predict(lotarea_train)\n",
    "train_final1['LotArea'] = clusters\n",
    "#Using the clusters to fit our test dataset\n",
    "lotarea_test = test_final1['LotArea'].values.reshape(-1,1)\n",
    "clusters_test = kmeans.predict(lotarea_test)\n",
    "test_final1['LotArea'] = clusters_test"
   ]
  },
  {
   "cell_type": "code",
   "execution_count": 935,
   "metadata": {},
   "outputs": [],
   "source": [
    "#GrLivArea\n",
    "grlivarea_train = train_final1['GrLivArea'].values.reshape(-1,1)\n",
    "sse=[]\n",
    "for j in range(1,11):\n",
    "    kmeans_1 = KMeans(n_clusters=j)\n",
    "    kmeans_1.fit(grlivarea_train)\n",
    "    sse.append(kmeans_1.inertia_)\n",
    "\n",
    "\"\"\" plt.plot(range(1,11),sse,marker='x')\n",
    "plt.xlabel('Cluster numbers')\n",
    "plt.ylabel('Inertia sum')\n",
    "plt.title('Kmeans - GrLivArea')\n",
    "plt.show() \"\"\"\n",
    "\n",
    "kmeans_1 = KMeans(n_clusters=3)\n",
    "kmeans_1.fit(grlivarea_train)\n",
    "clusters_1 = kmeans_1.predict(grlivarea_train)\n",
    "train_final1['GrLivArea'] = clusters_1\n",
    "\n",
    "grlivarea_test = test_final1['GrLivArea'].values.reshape(-1,1)\n",
    "clusters_1_test = kmeans_1.predict(grlivarea_test)\n",
    "test_final1['GrLivArea'] = clusters_1_test"
   ]
  },
  {
   "cell_type": "code",
   "execution_count": 936,
   "metadata": {},
   "outputs": [],
   "source": [
    "# YearBuilt\n",
    "yrbuilt_train = train_final1['YearBuilt'].values.reshape(-1,1)\n",
    "sse=[]\n",
    "for k in range(1,11):\n",
    "    kmeans_2 = KMeans(n_clusters=k)\n",
    "    kmeans_2.fit(yrbuilt_train)\n",
    "    sse.append(kmeans_2.inertia_)\n",
    "\n",
    "\"\"\" plt.plot(range(1,11),sse,marker='x')\n",
    "plt.xlabel('Cluster numbers')\n",
    "plt.ylabel('Inertia sum')\n",
    "plt.title('Kmeans - YearBuilt')\n",
    "plt.show() \"\"\"\n",
    "\n",
    "kmeans_2 = KMeans(n_clusters=3)\n",
    "kmeans_2.fit(yrbuilt_train)\n",
    "clusters_2 = kmeans_2.predict(yrbuilt_train)\n",
    "train_final1['YearBuilt'] = clusters_2\n",
    "\n",
    "yrbuilt_test = test_final1['YearBuilt'].values.reshape(-1,1)\n",
    "clusters_2_test = kmeans_2.predict(yrbuilt_test)\n",
    "test_final1['YearBuilt'] = clusters_2_test"
   ]
  },
  {
   "cell_type": "code",
   "execution_count": 937,
   "metadata": {},
   "outputs": [],
   "source": [
    "#TotalBsmtSF\n",
    "totalbsmtsf_train = train_final1['TotalBsmtSF'].values.reshape(-1,1)\n",
    "sse=[]\n",
    "for l in range(1,11):\n",
    "    kmeans_3 = KMeans(n_clusters=l)\n",
    "    kmeans_3.fit(totalbsmtsf_train)\n",
    "    sse.append(kmeans_3.inertia_)\n",
    "\n",
    "\"\"\" plt.plot(range(1,11),sse,marker='x')\n",
    "plt.xlabel('Cluster numbers')\n",
    "plt.ylabel('Inertia sum')\n",
    "plt.title('Kmeans - TotalBsmtSF')\n",
    "plt.show() \"\"\"\n",
    "\n",
    "kmeans_3 = KMeans(n_clusters=3)\n",
    "kmeans_3.fit(totalbsmtsf_train)\n",
    "clusters_3 = kmeans_3.predict(totalbsmtsf_train)\n",
    "train_final1['TotalBsmtSF'] = clusters_3\n",
    "\n",
    "totalbsmtsf_test = test_final1['TotalBsmtSF'].values.reshape(-1,1)\n",
    "clusters_3_test = kmeans_3.predict(totalbsmtsf_test)\n",
    "test_final1['TotalBsmtSF'] = clusters_3_test"
   ]
  },
  {
   "cell_type": "code",
   "execution_count": 938,
   "metadata": {},
   "outputs": [],
   "source": [
    "#1stFlrSF\n",
    "fstflrsf_train = train_final1['1stFlrSF'].values.reshape(-1,1)\n",
    "sse=[]\n",
    "for m in range(1,11):\n",
    "    kmeans_4 = KMeans(n_clusters=m)\n",
    "    kmeans_4.fit(fstflrsf_train)\n",
    "    sse.append(kmeans_4.inertia_)\n",
    "\n",
    "\"\"\" plt.plot(range(1,11),sse,marker='x')\n",
    "plt.xlabel('Cluster numbers')\n",
    "plt.ylabel('Inertia sum')\n",
    "plt.title('Kmeans - 1stFlrSF')\n",
    "plt.show() \"\"\"\n",
    "\n",
    "kmeans_4 = KMeans(n_clusters=3)\n",
    "kmeans_4.fit(fstflrsf_train)\n",
    "clusters_4 = kmeans_4.predict(fstflrsf_train)\n",
    "train_final1['1stFlrSF'] = clusters_4\n",
    "\n",
    "fstflrsf_test = test_final1['1stFlrSF'].values.reshape(-1,1)\n",
    "clusters_4_test = kmeans_4.predict(fstflrsf_test)\n",
    "test_final1['1stFlrSF'] = clusters_4_test"
   ]
  },
  {
   "cell_type": "code",
   "execution_count": 939,
   "metadata": {},
   "outputs": [],
   "source": [
    "#2ndFlrSF\n",
    "sndflrsf_train = train_final1['2ndFlrSF'].values.reshape(-1,1)\n",
    "sse=[]\n",
    "for n in range(1,11):\n",
    "    kmeans_5 = KMeans(n_clusters=n)\n",
    "    kmeans_5.fit(sndflrsf_train)\n",
    "    sse.append(kmeans_5.inertia_)\n",
    "\n",
    "\"\"\" plt.plot(range(1,11),sse,marker='x')\n",
    "plt.xlabel('Cluster numbers')\n",
    "plt.ylabel('Inertia sum')\n",
    "plt.title('Kmeans - 2ndFlrSF')\n",
    "plt.show() \"\"\"\n",
    "\n",
    "kmeans_5 = KMeans(n_clusters=3)\n",
    "kmeans_5.fit(sndflrsf_train)\n",
    "clusters_5 = kmeans_5.predict(sndflrsf_train)\n",
    "train_final1['2ndFlrSF'] = clusters_5\n",
    "\n",
    "sndflrsf_test = test_final1['2ndFlrSF'].values.reshape(-1,1)\n",
    "clusters_5_test = kmeans_5.predict(sndflrsf_test)\n",
    "test_final1['2ndFlrSF'] = clusters_5_test"
   ]
  },
  {
   "cell_type": "code",
   "execution_count": 940,
   "metadata": {},
   "outputs": [],
   "source": [
    "#GarageArea\n",
    "garagearea_train = train_final1['GarageArea'].values.reshape(-1,1)\n",
    "sse=[]\n",
    "for o in range(1,11):\n",
    "    kmeans_6 = KMeans(n_clusters=o)\n",
    "    kmeans_6.fit(garagearea_train)\n",
    "    sse.append(kmeans_6.inertia_)\n",
    "\n",
    "\"\"\" plt.plot(range(1,11),sse,marker='x')\n",
    "plt.xlabel('Cluster numbers')\n",
    "plt.ylabel('Inertia sum')\n",
    "plt.title('Kmeans - GarageArea')\n",
    "plt.show() \"\"\"\n",
    "\n",
    "kmeans_6 = KMeans(n_clusters=3)\n",
    "kmeans_6.fit(garagearea_train)\n",
    "clusters_6 = kmeans_6.predict(garagearea_train)\n",
    "train_final1['GarageArea'] = clusters_6\n",
    "\n",
    "garagearea_test = test_final1['GarageArea'].values.reshape(-1,1)\n",
    "clusters_6_test = kmeans_6.predict(garagearea_test)\n",
    "test_final1['GarageArea'] = clusters_6_test"
   ]
  },
  {
   "cell_type": "code",
   "execution_count": 941,
   "metadata": {},
   "outputs": [],
   "source": [
    "##Other treatments columns:\n",
    "#Overall = OverallQual + OverallCond\n",
    "\n",
    "train_final1['Overall'] = train_final1['OverallCond'] + train_final1['OverallQual']\n",
    "test_final1['Overall'] = test_final1['OverallCond'] + test_final1['OverallQual']\n",
    "\n",
    "#Total Bath = BsmtFullBath + BsmtHalfBath + FullBath + HalfBath\n",
    "#print(test_final1[['BsmtFullBath', 'BsmtHalfBath', 'FullBath', 'HalfBath']].dtypes)\n",
    "#It was found that BsmtFullBath and BsmtHalfBath in test_final1 is type object, so we have to convert it to int to be able to sum\n",
    "train_final1['Total Bath'] = train_final1['BsmtFullBath'] + train_final1['BsmtHalfBath'] + train_final1['FullBath'] + train_final1['HalfBath']\n",
    "\n",
    "test_final1['BsmtFullBath'] = pd.to_numeric(test_final1['BsmtFullBath'], errors='coerce')\n",
    "test_final1['BsmtHalfBath'] = pd.to_numeric(test_final1['BsmtHalfBath'], errors='coerce')\n",
    "test_final1['BsmtFullBath'] = test_final1['BsmtFullBath'].fillna(0).astype(int)\n",
    "test_final1['BsmtHalfBath'] = test_final1['BsmtHalfBath'].fillna(0).astype(int)\n",
    "test_final1['Total Bath'] = test_final1['BsmtFullBath'] + test_final1['BsmtHalfBath'] + test_final1['FullBath'] + test_final1['HalfBath']"
   ]
  },
  {
   "cell_type": "code",
   "execution_count": 942,
   "metadata": {},
   "outputs": [],
   "source": [
    "#Fireplaces = 1 or 0\n",
    "fireplaces_train = train_final1.groupby(train_final1['Fireplaces']).size()\n",
    "fireplaces_train\n",
    "\"\"\"fireplaces_test = test_final1.groupby(test_final1['Fireplaces']).size()\n",
    "fireplaces_test \"\"\"\n",
    "\n",
    "#Replacing values for 0 (no fireplace) and 1 (there are fireplaces)\n",
    "sub = {0: 0, 1: 1, 2: 1, 3: 1, 4: 1}\n",
    "train_final1['Fireplaces'] = train_final1['Fireplaces'].map(sub)\n",
    "test_final1['Fireplaces'] = test_final1['Fireplaces'].map(sub)"
   ]
  },
  {
   "cell_type": "code",
   "execution_count": 943,
   "metadata": {},
   "outputs": [],
   "source": [
    "#PoolArea = 1 or 0\n",
    "pool_train = train_final1.groupby(train_final1['PoolArea']).size()\n",
    "pool_test = test_final1.groupby(test_final1['PoolArea']).size()\n",
    "\n",
    "#Replacing values 0 (no pool), 1 (there is a pool) when value > 0\n",
    "train_final1['PoolArea'] = train_final1['PoolArea'].apply(lambda x: 0 if x == 0 else (1 if x >= 1 else x))\n",
    "test_final1['PoolArea'] = test_final1['PoolArea'].apply(lambda x: 0 if x == 0 else (1 if x >= 1 else x))"
   ]
  },
  {
   "cell_type": "code",
   "execution_count": 944,
   "metadata": {},
   "outputs": [],
   "source": [
    "#MSZoning = Keep only the first letter of each value (group residentials)\n",
    "train_final1['MSZoning'] = train_final1['MSZoning'].str[0]\n",
    "test_final1['MSZoning'] = test_final1['MSZoning'].str[0]"
   ]
  },
  {
   "cell_type": "code",
   "execution_count": 945,
   "metadata": {},
   "outputs": [],
   "source": [
    "#Street = Paved = 1, Gravel = 0\n",
    "\n",
    "street_train = train_final1.groupby(train_final1['Street']).size()\n",
    "street_train\n",
    "\n",
    "street_test = test_final1.groupby(test_final1['Street']).size()\n",
    "street_test\n",
    "\n",
    "sub_street = {'Pave': 1, 'Grvl': 0}\n",
    "train_final1['Street'] = train_final1['Street'].map(sub_street)\n",
    "test_final1['Street'] = test_final1['Street'].map(sub_street)"
   ]
  },
  {
   "cell_type": "code",
   "execution_count": 946,
   "metadata": {},
   "outputs": [],
   "source": [
    "#LotShape = Regular, Irregular\n",
    "lotshape = train_final1.groupby(train_final1['LotShape']).size()\n",
    "lotshape_test = test_final1.groupby(test_final1['LotShape']).size()\n",
    "\n",
    "train_final1['LotShape'] = train_final1['LotShape'].str[0]\n",
    "test_final1['LotShape'] = test_final1['LotShape'].str[0]\n",
    "\n",
    "sub_lot = {'R': 1, 'I': 0}\n",
    "train_final1['LotShape'] = train_final1['LotShape'].map(sub_lot)\n",
    "test_final1['LotShape'] = test_final1['LotShape'].map(sub_lot)"
   ]
  },
  {
   "cell_type": "code",
   "execution_count": 947,
   "metadata": {},
   "outputs": [],
   "source": [
    "#CentralAir = 1 or 0\n",
    "ca_train = train_final1.groupby(train_final1['CentralAir']).size()\n",
    "ca_test = test_final1.groupby(test_final1['CentralAir']).size()\n",
    "\n",
    "sub_ca = {'Y':1,'N':0}\n",
    "train_final1['CentralAir'] = train_final1['CentralAir'].map(sub_ca)\n",
    "test_final1['CentralAir'] = test_final1['CentralAir'].map(sub_ca)"
   ]
  },
  {
   "cell_type": "code",
   "execution_count": 948,
   "metadata": {},
   "outputs": [],
   "source": [
    "#PavedDrive = 1 or 0\n",
    "paved_train = train_final1.groupby(train_final1['PavedDrive']).size()\n",
    "paved_test = test_final1.groupby(test_final1['PavedDrive']).size()\n",
    "\n",
    "#converting 'N' to 0 and 'P'/'Y' to 1\n",
    "sub_paved = {'N':0,'P':1,'Y':1}\n",
    "train_final1['PavedDrive'] = train_final1['PavedDrive'].map(sub_paved)\n",
    "test_final1['PavedDrive'] = test_final1['PavedDrive'].map(sub_paved)"
   ]
  },
  {
   "cell_type": "code",
   "execution_count": 949,
   "metadata": {},
   "outputs": [],
   "source": [
    "columns_to_remove_2 = ['OverallQual','OverallCond','BsmtHalfBath','BsmtFullBath','FullBath','HalfBath','Utilities','HouseStyle','RoofMatl','Heating'\n",
    "                       ,'Id','Exterior1st']\n",
    "\n",
    "train_final1 = train_final1.drop(columns=columns_to_remove_2,axis=1)\n",
    "test_final1 = test_final1.drop(columns=columns_to_remove_2,axis=1)"
   ]
  },
  {
   "cell_type": "code",
   "execution_count": 950,
   "metadata": {},
   "outputs": [],
   "source": [
    "#Encoding categoric columns\n",
    "train_final1_encoded = pd.get_dummies(train_final1)\n",
    "test_final1_encoded = pd.get_dummies(test_final1)"
   ]
  },
  {
   "cell_type": "code",
   "execution_count": 951,
   "metadata": {},
   "outputs": [
    {
     "name": "stdout",
     "output_type": "stream",
     "text": [
      "MSSubClass              0\n",
      "Neighborhood_Timber     0\n",
      "BsmtCond_Fa             0\n",
      "ExterQual_TA            0\n",
      "ExterQual_Gd            0\n",
      "                       ..\n",
      "Neighborhood_Gilbert    0\n",
      "Neighborhood_IDOTRR     0\n",
      "Neighborhood_MeadowV    0\n",
      "Neighborhood_Mitchel    0\n",
      "SaleType_WD             0\n",
      "Length: 69, dtype: int64\n"
     ]
    }
   ],
   "source": [
    "print(train_final1_encoded.isnull().sum().sort_values(ascending=False))"
   ]
  },
  {
   "cell_type": "code",
   "execution_count": 952,
   "metadata": {},
   "outputs": [],
   "source": [
    "#Saving databases as csv to open and analyze the data\n",
    "train_final1_encoded.to_csv('train_final1.csv',index=False)\n",
    "test_final1_encoded.to_csv('test_final1.csv',index=False)"
   ]
  },
  {
   "cell_type": "code",
   "execution_count": 953,
   "metadata": {},
   "outputs": [],
   "source": [
    "#Separating x and y for our train model\n",
    "X = train_final1_encoded.drop('SalePrice',axis=1)\n",
    "y = train_final1_encoded.SalePrice"
   ]
  },
  {
   "cell_type": "code",
   "execution_count": 954,
   "metadata": {},
   "outputs": [],
   "source": [
    "X_train,X_test,y_train,y_test = train_test_split(X,y,test_size=0.33,random_state=42)"
   ]
  },
  {
   "cell_type": "code",
   "execution_count": 955,
   "metadata": {},
   "outputs": [],
   "source": [
    "#LinearRegression\n",
    "l_reg = LinearRegression().fit(X_train,y_train)\n",
    "y_lr = l_reg.predict(X_test)\n",
    "ma_lr = mean_absolute_error(y_test,y_lr)\n",
    "ms_lr = mean_squared_error(y_test,y_lr)"
   ]
  },
  {
   "cell_type": "code",
   "execution_count": 956,
   "metadata": {},
   "outputs": [],
   "source": [
    "#Tree\n",
    "tree_reg = tree.DecisionTreeRegressor(random_state=42).fit(X_train,y_train)\n",
    "y_tree = tree_reg.predict(X_test)\n",
    "ma_tree = mean_absolute_error(y_test,y_tree)\n",
    "ms_tree = mean_squared_error(y_test,y_tree)"
   ]
  },
  {
   "cell_type": "code",
   "execution_count": 957,
   "metadata": {},
   "outputs": [],
   "source": [
    "#KNN\n",
    "knn = KNeighborsClassifier(n_neighbors = 2).fit(X_train,y_train)\n",
    "y_knn = knn.predict(X_test)\n",
    "ma_knn = mean_absolute_error(y_test,y_knn)\n",
    "ms_knn = mean_squared_error(y_test,y_knn)"
   ]
  },
  {
   "cell_type": "code",
   "execution_count": 958,
   "metadata": {},
   "outputs": [],
   "source": [
    "#Support Vector Machines\n",
    "svc = SVC().fit(X_train,y_train)\n",
    "y_svc = svc.predict(X_test)\n",
    "ma_svc = mean_absolute_error(y_test,y_svc)\n",
    "ms_svc = mean_squared_error(y_test,y_svc)"
   ]
  },
  {
   "cell_type": "code",
   "execution_count": 959,
   "metadata": {},
   "outputs": [],
   "source": [
    "#Gaussian Naive Bayes\n",
    "gaussian = GaussianNB().fit(X_train,y_train)\n",
    "y_gau = gaussian.predict(X_test)\n",
    "ma_gau = mean_absolute_error(y_test,y_gau)\n",
    "ms_gau = mean_squared_error(y_test,y_gau)"
   ]
  },
  {
   "cell_type": "code",
   "execution_count": 960,
   "metadata": {},
   "outputs": [],
   "source": [
    "#Perceptron\n",
    "perceptron = Perceptron().fit(X_train,y_train)\n",
    "y_per = perceptron.predict(X_test)\n",
    "ma_per = mean_absolute_error(y_test,y_per)\n",
    "ms_per = mean_squared_error(y_test,y_per)"
   ]
  },
  {
   "cell_type": "code",
   "execution_count": 961,
   "metadata": {},
   "outputs": [
    {
     "name": "stderr",
     "output_type": "stream",
     "text": [
      "c:\\Users\\Gabi Bello\\AppData\\Local\\Programs\\Python\\Python312\\Lib\\site-packages\\sklearn\\svm\\_classes.py:31: FutureWarning: The default value of `dual` will change from `True` to `'auto'` in 1.5. Set the value of `dual` explicitly to suppress the warning.\n",
      "  warnings.warn(\n",
      "c:\\Users\\Gabi Bello\\AppData\\Local\\Programs\\Python\\Python312\\Lib\\site-packages\\sklearn\\svm\\_base.py:1237: ConvergenceWarning: Liblinear failed to converge, increase the number of iterations.\n",
      "  warnings.warn(\n"
     ]
    }
   ],
   "source": [
    "#Linear SVC\n",
    "linear_svc = LinearSVC().fit(X_train,y_train)\n",
    "y_lsvc = linear_svc.predict(X_test)\n",
    "ma_lsvc = mean_absolute_error(y_test,y_lsvc)\n",
    "ms_lsvc = mean_squared_error(y_test,y_lsvc)"
   ]
  },
  {
   "cell_type": "code",
   "execution_count": 962,
   "metadata": {},
   "outputs": [],
   "source": [
    "#Stochastic Gradient Descent\n",
    "sgdc = SGDClassifier().fit(X_train,y_train)\n",
    "y_sgdc = sgdc.predict(X_test)\n",
    "ma_sgdc = mean_absolute_error(y_test,y_sgdc)\n",
    "ms_sgdc = mean_squared_error(y_test,y_sgdc)"
   ]
  },
  {
   "cell_type": "code",
   "execution_count": 963,
   "metadata": {},
   "outputs": [],
   "source": [
    "#Random Forest\n",
    "r_forest = RandomForestClassifier(n_estimators=100).fit(X_train,y_train)\n",
    "y_rf = r_forest.predict(X_test)\n",
    "ma_rf = mean_absolute_error(y_test,y_rf)\n",
    "ms_rf = mean_squared_error(y_test,y_rf)"
   ]
  },
  {
   "cell_type": "code",
   "execution_count": 964,
   "metadata": {},
   "outputs": [
    {
     "name": "stdout",
     "output_type": "stream",
     "text": [
      "               Model     Abs Error  Squared Error\n",
      "0  Linear Regression  23629.015943   1.474572e+09\n",
      "1               Tree  28736.394537   1.930919e+09\n",
      "2                KNN  26814.358921   2.302711e+09\n",
      "3                SVC  60887.410788   9.392358e+09\n",
      "4           Gaussian  33507.201245   3.498199e+09\n",
      "5         Perceptron  61861.294606   7.461244e+09\n",
      "6         Linear SVC  55986.771784   6.490616e+09\n",
      "7               SGDC  51909.269710   6.483276e+09\n",
      "8      Random Forest  25219.966805   1.513960e+09\n"
     ]
    }
   ],
   "source": [
    "#Models Evaluation\n",
    "\n",
    "models_evaluation = pd.DataFrame(\n",
    "    {\n",
    "        'Model':['Linear Regression','Tree','KNN','SVC','Gaussian','Perceptron','Linear SVC','SGDC','Random Forest'],\n",
    "        'Abs Error': [ma_lr,ma_tree,ma_knn,ma_svc,ma_gau,ma_per,ma_lsvc,ma_sgdc,ma_rf],\n",
    "        'Squared Error': [ms_lr,ms_tree,ms_knn,ms_svc,ms_gau,ms_per,ms_lsvc,ms_sgdc,ms_rf]\n",
    "    }\n",
    ")\n",
    "\n",
    "#As the result will be evaluated by squared error (Kaggle description), we will sort by it\n",
    "models_evaluation.sort_values(by='Squared Error',ascending=True)\n",
    "\n",
    "print(models_evaluation) #Linear Regression is the most accurate model to predict this data"
   ]
  },
  {
   "cell_type": "code",
   "execution_count": 965,
   "metadata": {},
   "outputs": [],
   "source": [
    "#Using Linear Regression to predict y_test\n",
    "y_pred = l_reg.predict(test_final1_encoded)"
   ]
  },
  {
   "cell_type": "code",
   "execution_count": 968,
   "metadata": {},
   "outputs": [],
   "source": [
    "#Add saleprice column to test dataset\n",
    "test_final1['SalePrice'] = y_pred\n",
    "test_final1['Id'] = test['Id']"
   ]
  },
  {
   "cell_type": "code",
   "execution_count": 970,
   "metadata": {},
   "outputs": [],
   "source": [
    "#Extracting only Id and Sale Price from test_final1\n",
    "submission_file = test_final1[['Id','SalePrice']]\n",
    "submission_file.to_csv('submission_file.csv',index=False)"
   ]
  }
 ],
 "metadata": {
  "kernelspec": {
   "display_name": "Python 3",
   "language": "python",
   "name": "python3"
  },
  "language_info": {
   "codemirror_mode": {
    "name": "ipython",
    "version": 3
   },
   "file_extension": ".py",
   "mimetype": "text/x-python",
   "name": "python",
   "nbconvert_exporter": "python",
   "pygments_lexer": "ipython3",
   "version": "3.12.2"
  }
 },
 "nbformat": 4,
 "nbformat_minor": 2
}
